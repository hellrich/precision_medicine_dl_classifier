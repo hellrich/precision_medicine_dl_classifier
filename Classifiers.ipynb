{
 "cells": [
  {
   "cell_type": "code",
   "execution_count": 1,
   "metadata": {},
   "outputs": [],
   "source": [
    "from tensorflow import keras\n",
    "import matplotlib.pyplot as plt\n",
    "from tensorflow.keras.models import Sequential\n",
    "from tensorflow.keras.layers import * \n",
    "from sklearn.preprocessing import LabelEncoder, StandardScaler\n",
    "from collections import Counter\n",
    "import numpy as np\n",
    "from tensorflow.keras.preprocessing.text import Tokenizer\n",
    "\n",
    "## extra imports to set GPU options\n",
    "import tensorflow as tf\n",
    " \n",
    "# TensorFlow wizardry\n",
    "config = tf.ConfigProto()\n",
    " \n",
    "# Don't pre-allocate memory; allocate as-needed\n",
    "config.gpu_options.allow_growth = True\n",
    " \n",
    "# Only allow a total of half the GPU memory to be allocated\n",
    "config.gpu_options.per_process_gpu_memory_fraction = 0.33\n",
    " \n",
    "# Create a session with the above options specified.\n",
    "session = tf.Session(config=config)\n",
    "tf.keras.backend.set_session(session)"
   ]
  },
  {
   "cell_type": "code",
   "execution_count": 2,
   "metadata": {},
   "outputs": [],
   "source": [
    "def embeddings(word_index, input_dim, input_length, path=\"/home/hellrich/keras-test/embeddings/glove.6B.\", suffix=\"d.txt\",\n",
    "               embedding_dim=200, trainable=False):\n",
    "    def load_embedding_text(dim):\n",
    "        w2e = {}\n",
    "        for line in open(path+str(dim)+suffix):\n",
    "            line = line.strip().split(\" \")\n",
    "            if len(line) > 2:\n",
    "                w = line[0]\n",
    "                e = np.asarray(line[1:], dtype=\"float32\")\n",
    "                w2e[w] = e\n",
    "        return w2e\n",
    "    \n",
    "    index2word = {v : k for k, v in word_index.items()}\n",
    "    weights = np.zeros((input_dim, embedding_dim))\n",
    "    loaded = load_embedding_text(embedding_dim)\n",
    "    entries = 0\n",
    "    for i in range(1,input_dim):\n",
    "        w = index2word[i]\n",
    "        if w in loaded:\n",
    "            weights[i] = np.array(loaded[w])\n",
    "            entries += 1\n",
    "    print(\"entries\", entries, \"found for\", input_dim, \"words in embedding model\")\n",
    "    return Embedding(input_dim, embedding_dim, weights=[weights], \n",
    "                     input_length=input_length, trainable=trainable)  #input_dim + 1 ?"
   ]
  },
  {
   "cell_type": "code",
   "execution_count": 3,
   "metadata": {},
   "outputs": [],
   "source": [
    "from enum import Enum\n",
    "class ToProcess(Enum):\n",
    "    TEXT_ONLY=1\n",
    "    TITLE_ONLY=2\n",
    "    BOTH=3\n",
    "\n",
    "def read_data(data_file = \"20180622processedGoldStandardTopics.tsv\", preprocess=True, \n",
    "              shuffle=False, maxlen=None, vocab_size=None, bow_mode=None, to_process=ToProcess.BOTH,\n",
    "              fold_repeats=True, return_word_index=False, sentence_wise=None):\n",
    "    texts = []\n",
    "    labels = []\n",
    "    with open(data_file) as data_file:\n",
    "        line_number = 0\n",
    "        for line in data_file:\n",
    "            if line_number > 0:\n",
    "                number, trec_topic_number, trec_doc_id, pm_rel_desc, disease_desc, \\\n",
    "                gene1_annotation_desc, gene1_name, gene2_annotation_desc, \\\n",
    "                gene2_name, gene3_annotation_desc, gene3_name, demographics_desc, \\\n",
    "                other_desc, relevance_score, title, abstract, major_mesh, \\\n",
    "                minor_mesh, trec_topic_disease, trec_topic_age, trec_topic_sex, \\\n",
    "                trec_topic_other1, trec_topic_other2, trec_topic_other3 = line.split(\"\\t\")\n",
    "                if to_process == ToProcess.BOTH:\n",
    "                    text = title.replace(\"[\",\"\").replace(\"]\",\"\") + \" \" + abstract\n",
    "                elif to_process == ToProcess.TEXT_ONLY:\n",
    "                    text = abstract\n",
    "                elif to_process == ToProcess.TITLE_ONLY:\n",
    "                    text = title.replace(\"[\",\"\").replace(\"]\",\"\")\n",
    "                else:\n",
    "                    raise Exception(\"not implemented\")\n",
    "                if preprocess:\n",
    "                    text = text.lower().replace(\". \", \" . \").replace(\", \", \" , \").\\\n",
    "                        replace(\"? \", \" ? \").replace(\"! \", \" ! \")\n",
    "                texts.append(text)\n",
    "                \n",
    "                if pm_rel_desc == 'Human PM' or pm_rel_desc == 'Animal PM':\n",
    "                    labels.append(1.)\n",
    "                else:\n",
    "                    labels.append(0.)\n",
    "            line_number += 1\n",
    "               \n",
    "       \n",
    "    if fold_repeats:\n",
    "        text2indices = {}\n",
    "        for i, text in enumerate(texts):\n",
    "            if text in text2indices:\n",
    "                text2indices[text].append(i)\n",
    "            else:\n",
    "                text2indices[text] = [i]\n",
    "        for text, indices in text2indices.items():\n",
    "            if len(indices) > 1:\n",
    "                is_pm = False\n",
    "                for i in indices:\n",
    "                    if labels[i] == 1.:\n",
    "                        is_pm = True\n",
    "                #remove all but first\n",
    "                for i in indices[1:]:\n",
    "                    labels[i] = None\n",
    "                    texts[i] = None\n",
    "                if is_pm:\n",
    "                    labels[indices[0]] = 1.\n",
    "        texts = [t for t in texts if t is not None]\n",
    "        labels = [x for x in labels if x is not None]\n",
    "                        \n",
    "    labels = np.array(labels)  \n",
    "    \n",
    "    #see https://machinelearningmastery.com/prepare-text-data-deep-learning-keras/\n",
    "    t = Tokenizer(num_words=vocab_size)\n",
    "    t.fit_on_texts(texts)\n",
    "    if bow_mode:\n",
    "        #modes:\n",
    "        #‘binary‘: Whether or not each word is present in the document. This is the default.\n",
    "        #‘count‘: The count of each word in the document.\n",
    "        #‘tfidf‘: The Text Frequency-Inverse DocumentFrequency (TF-IDF) scoring for each word in the document.\n",
    "        #‘freq‘: The frequency of each word as a ratio of words within each document.\n",
    "        texts = t.texts_to_matrix(texts, mode=bow_mode)\n",
    "        if sentence_wise:\n",
    "            raise Exception(\"bow_mode and sentence_wise are incompatible\")\n",
    "        if maxlen:\n",
    "            texts = keras.preprocessing.sequence.pad_sequences(texts, maxlen=maxlen)\n",
    "    else:\n",
    "        if sentence_wise:\n",
    "            if not preprocess:\n",
    "                raise Exception(\"preprocess required\")\n",
    "            max_sentences = sentence_wise[0]\n",
    "            max_sentence_length = sentence_wise[1]\n",
    "            list_of_list_of_sentences = [text.split(\" . \") for text in texts]\n",
    "            #trimming number of sentences\n",
    "            trimmed_list_of_list_of_sentences = []\n",
    "            for x in list_of_list_of_sentences:\n",
    "                if len(x) > max_sentences:\n",
    "                    trimmed_list_of_list_of_sentences.append(x[:max_sentences])\n",
    "                else:\n",
    "                    if len(x) < max_sentences:\n",
    "                        to_pad = max_sentences - len(x)\n",
    "                        for i in range(to_pad):\n",
    "                            x.append([\" \"])\n",
    "                    trimmed_list_of_list_of_sentences.append(x)\n",
    "            list_of_sentence_matrices = [t.texts_to_sequences(x) for x in trimmed_list_of_list_of_sentences]\n",
    "            #trimming sentences for length\n",
    "            trimmed_list_of_sentence_matrices = [keras.preprocessing.sequence.pad_sequences(\n",
    "                                x, maxlen = max_sentence_length) for x in list_of_sentence_matrices]\n",
    "            texts = np.asarray(trimmed_list_of_sentence_matrices)\n",
    "        else:\n",
    "            texts = t.texts_to_sequences(texts)\n",
    "            if maxlen:\n",
    "                texts = keras.preprocessing.sequence.pad_sequences(texts, maxlen=maxlen)\n",
    "    \n",
    "    if shuffle:\n",
    "        perm = np.random.permutation(len(texts))\n",
    "        texts = texts[perm]\n",
    "        labels = labels[perm]\n",
    "    if return_word_index:\n",
    "        return texts, labels, t.word_index\n",
    "    else:\n",
    "        return texts, labels"
   ]
  },
  {
   "cell_type": "code",
   "execution_count": 26,
   "metadata": {},
   "outputs": [],
   "source": [
    "class FineTuneLayer(keras.callbacks.Callback):\n",
    "    ''' \n",
    "        n_epoch = no. of epochs after decay should happen.\n",
    "        decay = decay value\n",
    "        lyaer_nr = layer to unfreeze\n",
    "        verbose = if non-zero there will be a message\n",
    "    '''  \n",
    "    def __init__(self, n_epoch, decay, layer_nr, verbose=1):\n",
    "        super(FineTuneLayer, self).__init__()\n",
    "        self.n_epoch = n_epoch\n",
    "        self.decay = decay\n",
    "        self.layer_nr = layer_nr\n",
    "        self.verbose = verbose\n",
    "\n",
    "    def on_epoch_begin(self, epoch, logs={}):\n",
    "        if epoch == self.n_epoch:\n",
    "            lr = float(keras.backend.get_value(self.model.optimizer.lr)) * self.decay\n",
    "            keras.backend.set_value(self.model.optimizer.lr, lr)\n",
    "            self.model.layers[self.layer_nr].trainable = True\n",
    "            if self.verbose:\n",
    "                print(\"Finetuning layer\", self.layer_nr, \"decreased learning rate with\", self.decay)\n",
    "            \n",
    "\n",
    "def experiment(model, texts, labels, max_epochs=30, patience=4, \n",
    "               fine_tune_embeddings=False, validation_split=0.1, learning_rate=0.001):\n",
    "    model.compile(loss='binary_crossentropy',\n",
    "                optimizer=keras.optimizers.Adam(learning_rate),\n",
    "                metrics=['acc'])\n",
    "    \n",
    "    callbacks = []\n",
    "\n",
    "    if fine_tune_embeddings:\n",
    "        callbacks.append(FineTuneLayer(fine_tune_embeddings[0], fine_tune_embeddings[1], 1))\n",
    "    \n",
    "    if patience:\n",
    "        if patience > 2:\n",
    "            callbacks.append(keras.callbacks.ReduceLROnPlateau(\n",
    "                    monitor='val_loss',\n",
    "                    factor=0.1,\n",
    "                    patience=patience - 2,\n",
    "                    verbose=1\n",
    "                 ))\n",
    "        callbacks.append(keras.callbacks.EarlyStopping(\n",
    "                monitor=\"val_loss\",\n",
    "                patience=patience,\n",
    "                verbose=1\n",
    "             ))\n",
    "    \n",
    "    history = model.fit(texts, labels, validation_split=validation_split, epochs=max_epochs, \n",
    "                        batch_size=50, verbose=2, callbacks=callbacks).history\n",
    "    \n",
    "    epochs = range(1, len(history[\"acc\"]) + 1)\n",
    "    plt.plot(epochs, history[\"val_acc\"], label=\"val accurarcy\")\n",
    "    plt.plot(epochs, history[\"val_loss\"], label=\"val loss\")\n",
    "    plt.xlabel(\"Epochs\")\n",
    "    plt.legend()\n",
    "    plt.show()\n",
    "    \n",
    "maxlen = 300\n",
    "vocab_size = 40000"
   ]
  },
  {
   "cell_type": "code",
   "execution_count": 28,
   "metadata": {},
   "outputs": [
    {
     "name": "stdout",
     "output_type": "stream",
     "text": [
      "Train on 16839 samples, validate on 1871 samples\n",
      "Epoch 1/30\n",
      " - 5s - loss: 0.5770 - acc: 0.7060 - val_loss: 0.5788 - val_acc: 0.7018\n",
      "Epoch 2/30\n",
      " - 4s - loss: 0.4791 - acc: 0.7813 - val_loss: 0.5738 - val_acc: 0.6970\n",
      "Epoch 3/30\n",
      " - 4s - loss: 0.4311 - acc: 0.8135 - val_loss: 0.6099 - val_acc: 0.6788\n",
      "Epoch 4/30\n",
      " - 4s - loss: 0.3962 - acc: 0.8376 - val_loss: 0.5945 - val_acc: 0.6873\n",
      "\n",
      "Epoch 00004: ReduceLROnPlateau reducing learning rate to 0.00010000000474974513.\n",
      "Epoch 5/30\n",
      " - 4s - loss: 0.3637 - acc: 0.8615 - val_loss: 0.6046 - val_acc: 0.6804\n",
      "Epoch 6/30\n",
      " - 4s - loss: 0.3609 - acc: 0.8636 - val_loss: 0.6057 - val_acc: 0.6799\n",
      "\n",
      "Epoch 00006: ReduceLROnPlateau reducing learning rate to 1.0000000474974514e-05.\n",
      "Epoch 00006: early stopping\n"
     ]
    },
    {
     "data": {
      "image/png": "[encoded data removed]",
      "text/plain": [
       "<Figure size 432x288 with 1 Axes>"
      ]
     },
     "metadata": {
      "needs_background": "light"
     },
     "output_type": "display_data"
    },
    {
     "name": "stdout",
     "output_type": "stream",
     "text": [
      "Train on 16839 samples, validate on 1871 samples\n",
      "Epoch 1/30\n",
      " - 4s - loss: 0.7250 - acc: 0.6360 - val_loss: 0.6624 - val_acc: 0.6921\n",
      "Epoch 2/30\n",
      " - 4s - loss: 0.6511 - acc: 0.6980 - val_loss: 0.6501 - val_acc: 0.7002\n",
      "Epoch 3/30\n",
      " - 3s - loss: 0.6324 - acc: 0.7131 - val_loss: 0.6392 - val_acc: 0.7039\n",
      "Epoch 4/30\n",
      " - 4s - loss: 0.6201 - acc: 0.7175 - val_loss: 0.6337 - val_acc: 0.7018\n",
      "Epoch 5/30\n",
      " - 4s - loss: 0.6111 - acc: 0.7239 - val_loss: 0.6294 - val_acc: 0.6986\n",
      "Epoch 6/30\n",
      " - 3s - loss: 0.6041 - acc: 0.7257 - val_loss: 0.6254 - val_acc: 0.6986\n",
      "Epoch 7/30\n",
      " - 4s - loss: 0.5986 - acc: 0.7284 - val_loss: 0.6265 - val_acc: 0.6948\n",
      "Epoch 8/30\n",
      " - 4s - loss: 0.5940 - acc: 0.7312 - val_loss: 0.6233 - val_acc: 0.6991\n",
      "Epoch 9/30\n",
      " - 4s - loss: 0.5902 - acc: 0.7322 - val_loss: 0.6229 - val_acc: 0.6970\n",
      "Epoch 10/30\n",
      " - 3s - loss: 0.5871 - acc: 0.7318 - val_loss: 0.6226 - val_acc: 0.6964\n",
      "Epoch 11/30\n",
      " - 3s - loss: 0.5843 - acc: 0.7334 - val_loss: 0.6220 - val_acc: 0.6975\n",
      "Epoch 12/30\n",
      " - 4s - loss: 0.5818 - acc: 0.7352 - val_loss: 0.6234 - val_acc: 0.6975\n",
      "Epoch 13/30\n",
      " - 4s - loss: 0.5797 - acc: 0.7356 - val_loss: 0.6244 - val_acc: 0.6970\n",
      "\n",
      "Epoch 00013: ReduceLROnPlateau reducing learning rate to 9.999999747378752e-06.\n",
      "Epoch 14/30\n",
      " - 3s - loss: 0.5764 - acc: 0.7370 - val_loss: 0.6222 - val_acc: 0.6970\n",
      "Epoch 15/30\n",
      " - 4s - loss: 0.5759 - acc: 0.7373 - val_loss: 0.6218 - val_acc: 0.6970\n",
      "Epoch 16/30\n",
      " - 4s - loss: 0.5757 - acc: 0.7373 - val_loss: 0.6215 - val_acc: 0.6980\n",
      "Epoch 17/30\n",
      " - 4s - loss: 0.5755 - acc: 0.7375 - val_loss: 0.6214 - val_acc: 0.6980\n",
      "Epoch 18/30\n"
     ]
    },
    {
     "ename": "KeyboardInterrupt",
     "evalue": "",
     "output_type": "error",
     "traceback": [
      "\u001b[0;31m---------------------------------------------------------------------------\u001b[0m",
      "\u001b[0;31mKeyboardInterrupt\u001b[0m                         Traceback (most recent call last)",
      "\u001b[0;32m<ipython-input-28-fbe78cb87707>\u001b[0m in \u001b[0;36m<module>\u001b[0;34m()\u001b[0m\n\u001b[1;32m     14\u001b[0m                 \u001b[0mkernel_regularizer\u001b[0m\u001b[0;34m=\u001b[0m\u001b[0mkeras\u001b[0m\u001b[0;34m.\u001b[0m\u001b[0mregularizers\u001b[0m\u001b[0;34m.\u001b[0m\u001b[0ml1_l2\u001b[0m\u001b[0;34m(\u001b[0m\u001b[0ml1\u001b[0m\u001b[0;34m=\u001b[0m\u001b[0;36m0.001\u001b[0m\u001b[0;34m,\u001b[0m \u001b[0ml2\u001b[0m\u001b[0;34m=\u001b[0m\u001b[0;36m0.001\u001b[0m\u001b[0;34m)\u001b[0m\u001b[0;34m,\u001b[0m\u001b[0;34m\u001b[0m\u001b[0m\n\u001b[1;32m     15\u001b[0m                 input_dim=vocab_size))\n\u001b[0;32m---> 16\u001b[0;31m \u001b[0mexperiment\u001b[0m\u001b[0;34m(\u001b[0m\u001b[0mmodel\u001b[0m\u001b[0;34m,\u001b[0m \u001b[0mbow_texts\u001b[0m\u001b[0;34m,\u001b[0m \u001b[0mbow_labels\u001b[0m\u001b[0;34m,\u001b[0m \u001b[0mlearning_rate\u001b[0m\u001b[0;34m=\u001b[0m\u001b[0;36m0.0001\u001b[0m\u001b[0;34m)\u001b[0m\u001b[0;34m\u001b[0m\u001b[0m\n\u001b[0m",
      "\u001b[0;32m<ipython-input-26-d3f2ee579ffc>\u001b[0m in \u001b[0;36mexperiment\u001b[0;34m(model, texts, labels, max_epochs, patience, fine_tune_embeddings, validation_split, learning_rate)\u001b[0m\n\u001b[1;32m     48\u001b[0m \u001b[0;34m\u001b[0m\u001b[0m\n\u001b[1;32m     49\u001b[0m     history = model.fit(texts, labels, validation_split=validation_split, epochs=max_epochs, \n\u001b[0;32m---> 50\u001b[0;31m                         batch_size=50, verbose=2, callbacks=callbacks).history\n\u001b[0m\u001b[1;32m     51\u001b[0m \u001b[0;34m\u001b[0m\u001b[0m\n\u001b[1;32m     52\u001b[0m     \u001b[0mepochs\u001b[0m \u001b[0;34m=\u001b[0m \u001b[0mrange\u001b[0m\u001b[0;34m(\u001b[0m\u001b[0;36m1\u001b[0m\u001b[0;34m,\u001b[0m \u001b[0mlen\u001b[0m\u001b[0;34m(\u001b[0m\u001b[0mhistory\u001b[0m\u001b[0;34m[\u001b[0m\u001b[0;34m\"acc\"\u001b[0m\u001b[0;34m]\u001b[0m\u001b[0;34m)\u001b[0m \u001b[0;34m+\u001b[0m \u001b[0;36m1\u001b[0m\u001b[0;34m)\u001b[0m\u001b[0;34m\u001b[0m\u001b[0m\n",
      "\u001b[0;32m~/bin/anaconda3/envs/keras-tensor-old-cudn/lib/python3.6/site-packages/tensorflow/python/keras/engine/training.py\u001b[0m in \u001b[0;36mfit\u001b[0;34m(self, x, y, batch_size, epochs, verbose, callbacks, validation_split, validation_data, shuffle, class_weight, sample_weight, initial_epoch, steps_per_epoch, validation_steps, **kwargs)\u001b[0m\n\u001b[1;32m   1346\u001b[0m           \u001b[0minitial_epoch\u001b[0m\u001b[0;34m=\u001b[0m\u001b[0minitial_epoch\u001b[0m\u001b[0;34m,\u001b[0m\u001b[0;34m\u001b[0m\u001b[0m\n\u001b[1;32m   1347\u001b[0m           \u001b[0msteps_per_epoch\u001b[0m\u001b[0;34m=\u001b[0m\u001b[0msteps_per_epoch\u001b[0m\u001b[0;34m,\u001b[0m\u001b[0;34m\u001b[0m\u001b[0m\n\u001b[0;32m-> 1348\u001b[0;31m           validation_steps=validation_steps)\n\u001b[0m\u001b[1;32m   1349\u001b[0m \u001b[0;34m\u001b[0m\u001b[0m\n\u001b[1;32m   1350\u001b[0m   def evaluate(self,\n",
      "\u001b[0;32m~/bin/anaconda3/envs/keras-tensor-old-cudn/lib/python3.6/site-packages/tensorflow/python/keras/engine/training_arrays.py\u001b[0m in \u001b[0;36mfit_loop\u001b[0;34m(model, inputs, targets, sample_weights, batch_size, epochs, verbose, callbacks, val_inputs, val_targets, val_sample_weights, shuffle, callback_metrics, initial_epoch, steps_per_epoch, validation_steps)\u001b[0m\n\u001b[1;32m    239\u001b[0m             \u001b[0mins_batch\u001b[0m \u001b[0;34m=\u001b[0m \u001b[0mslice_arrays\u001b[0m\u001b[0;34m(\u001b[0m\u001b[0mins\u001b[0m\u001b[0;34m[\u001b[0m\u001b[0;34m:\u001b[0m\u001b[0;34m-\u001b[0m\u001b[0;36m1\u001b[0m\u001b[0;34m]\u001b[0m\u001b[0;34m,\u001b[0m \u001b[0mbatch_ids\u001b[0m\u001b[0;34m)\u001b[0m \u001b[0;34m+\u001b[0m \u001b[0;34m[\u001b[0m\u001b[0mins\u001b[0m\u001b[0;34m[\u001b[0m\u001b[0;34m-\u001b[0m\u001b[0;36m1\u001b[0m\u001b[0;34m]\u001b[0m\u001b[0;34m]\u001b[0m\u001b[0;34m\u001b[0m\u001b[0m\n\u001b[1;32m    240\u001b[0m           \u001b[0;32melse\u001b[0m\u001b[0;34m:\u001b[0m\u001b[0;34m\u001b[0m\u001b[0m\n\u001b[0;32m--> 241\u001b[0;31m             \u001b[0mins_batch\u001b[0m \u001b[0;34m=\u001b[0m \u001b[0mslice_arrays\u001b[0m\u001b[0;34m(\u001b[0m\u001b[0mins\u001b[0m\u001b[0;34m,\u001b[0m \u001b[0mbatch_ids\u001b[0m\u001b[0;34m)\u001b[0m\u001b[0;34m\u001b[0m\u001b[0m\n\u001b[0m\u001b[1;32m    242\u001b[0m         \u001b[0;32mexcept\u001b[0m \u001b[0mTypeError\u001b[0m\u001b[0;34m:\u001b[0m\u001b[0;34m\u001b[0m\u001b[0m\n\u001b[1;32m    243\u001b[0m           raise TypeError('TypeError while preparing batch. '\n",
      "\u001b[0;32m~/bin/anaconda3/envs/keras-tensor-old-cudn/lib/python3.6/site-packages/tensorflow/python/keras/utils/generic_utils.py\u001b[0m in \u001b[0;36mslice_arrays\u001b[0;34m(arrays, start, stop)\u001b[0m\n\u001b[1;32m    503\u001b[0m       \u001b[0;32mif\u001b[0m \u001b[0mhasattr\u001b[0m\u001b[0;34m(\u001b[0m\u001b[0mstart\u001b[0m\u001b[0;34m,\u001b[0m \u001b[0;34m'shape'\u001b[0m\u001b[0;34m)\u001b[0m\u001b[0;34m:\u001b[0m\u001b[0;34m\u001b[0m\u001b[0m\n\u001b[1;32m    504\u001b[0m         \u001b[0mstart\u001b[0m \u001b[0;34m=\u001b[0m \u001b[0mstart\u001b[0m\u001b[0;34m.\u001b[0m\u001b[0mtolist\u001b[0m\u001b[0;34m(\u001b[0m\u001b[0;34m)\u001b[0m\u001b[0;34m\u001b[0m\u001b[0m\n\u001b[0;32m--> 505\u001b[0;31m       \u001b[0;32mreturn\u001b[0m \u001b[0;34m[\u001b[0m\u001b[0;32mNone\u001b[0m \u001b[0;32mif\u001b[0m \u001b[0mx\u001b[0m \u001b[0;32mis\u001b[0m \u001b[0;32mNone\u001b[0m \u001b[0;32melse\u001b[0m \u001b[0mx\u001b[0m\u001b[0;34m[\u001b[0m\u001b[0mstart\u001b[0m\u001b[0;34m]\u001b[0m \u001b[0;32mfor\u001b[0m \u001b[0mx\u001b[0m \u001b[0;32min\u001b[0m \u001b[0marrays\u001b[0m\u001b[0;34m]\u001b[0m\u001b[0;34m\u001b[0m\u001b[0m\n\u001b[0m\u001b[1;32m    506\u001b[0m     \u001b[0;32melse\u001b[0m\u001b[0;34m:\u001b[0m\u001b[0;34m\u001b[0m\u001b[0m\n\u001b[1;32m    507\u001b[0m       \u001b[0;32mreturn\u001b[0m \u001b[0;34m[\u001b[0m\u001b[0;32mNone\u001b[0m \u001b[0;32mif\u001b[0m \u001b[0mx\u001b[0m \u001b[0;32mis\u001b[0m \u001b[0;32mNone\u001b[0m \u001b[0;32melse\u001b[0m \u001b[0mx\u001b[0m\u001b[0;34m[\u001b[0m\u001b[0mstart\u001b[0m\u001b[0;34m:\u001b[0m\u001b[0mstop\u001b[0m\u001b[0;34m]\u001b[0m \u001b[0;32mfor\u001b[0m \u001b[0mx\u001b[0m \u001b[0;32min\u001b[0m \u001b[0marrays\u001b[0m\u001b[0;34m]\u001b[0m\u001b[0;34m\u001b[0m\u001b[0m\n",
      "\u001b[0;32m~/bin/anaconda3/envs/keras-tensor-old-cudn/lib/python3.6/site-packages/tensorflow/python/keras/utils/generic_utils.py\u001b[0m in \u001b[0;36m<listcomp>\u001b[0;34m(.0)\u001b[0m\n\u001b[1;32m    503\u001b[0m       \u001b[0;32mif\u001b[0m \u001b[0mhasattr\u001b[0m\u001b[0;34m(\u001b[0m\u001b[0mstart\u001b[0m\u001b[0;34m,\u001b[0m \u001b[0;34m'shape'\u001b[0m\u001b[0;34m)\u001b[0m\u001b[0;34m:\u001b[0m\u001b[0;34m\u001b[0m\u001b[0m\n\u001b[1;32m    504\u001b[0m         \u001b[0mstart\u001b[0m \u001b[0;34m=\u001b[0m \u001b[0mstart\u001b[0m\u001b[0;34m.\u001b[0m\u001b[0mtolist\u001b[0m\u001b[0;34m(\u001b[0m\u001b[0;34m)\u001b[0m\u001b[0;34m\u001b[0m\u001b[0m\n\u001b[0;32m--> 505\u001b[0;31m       \u001b[0;32mreturn\u001b[0m \u001b[0;34m[\u001b[0m\u001b[0;32mNone\u001b[0m \u001b[0;32mif\u001b[0m \u001b[0mx\u001b[0m \u001b[0;32mis\u001b[0m \u001b[0;32mNone\u001b[0m \u001b[0;32melse\u001b[0m \u001b[0mx\u001b[0m\u001b[0;34m[\u001b[0m\u001b[0mstart\u001b[0m\u001b[0;34m]\u001b[0m \u001b[0;32mfor\u001b[0m \u001b[0mx\u001b[0m \u001b[0;32min\u001b[0m \u001b[0marrays\u001b[0m\u001b[0;34m]\u001b[0m\u001b[0;34m\u001b[0m\u001b[0m\n\u001b[0m\u001b[1;32m    506\u001b[0m     \u001b[0;32melse\u001b[0m\u001b[0;34m:\u001b[0m\u001b[0;34m\u001b[0m\u001b[0m\n\u001b[1;32m    507\u001b[0m       \u001b[0;32mreturn\u001b[0m \u001b[0;34m[\u001b[0m\u001b[0;32mNone\u001b[0m \u001b[0;32mif\u001b[0m \u001b[0mx\u001b[0m \u001b[0;32mis\u001b[0m \u001b[0;32mNone\u001b[0m \u001b[0;32melse\u001b[0m \u001b[0mx\u001b[0m\u001b[0;34m[\u001b[0m\u001b[0mstart\u001b[0m\u001b[0;34m:\u001b[0m\u001b[0mstop\u001b[0m\u001b[0;34m]\u001b[0m \u001b[0;32mfor\u001b[0m \u001b[0mx\u001b[0m \u001b[0;32min\u001b[0m \u001b[0marrays\u001b[0m\u001b[0;34m]\u001b[0m\u001b[0;34m\u001b[0m\u001b[0m\n",
      "\u001b[0;31mKeyboardInterrupt\u001b[0m: "
     ]
    }
   ],
   "source": [
    "#logistic regression, see https://gist.github.com/fchollet/b7507f373a3446097f26840330c1c378\n",
    "bow_texts, bow_labels = read_data(vocab_size=vocab_size, bow_mode=\"binary\")\n",
    "#texts, labels = read_data(vocab_size=vocab_size, bow_mode=\"binary\", to_process=ToProcess.TITLE_ONLY)\n",
    "\n",
    "model = Sequential()\n",
    "#worked better without regularizer: kernel_regularizer=keras.regularizers.l1_l2(l1=0.01, l2=0.01),\n",
    "model.add(Dense(1, activation='sigmoid', \n",
    "                input_dim=vocab_size))\n",
    "\n",
    "experiment(model, bow_texts, bow_labels)\n",
    "\n",
    "model = Sequential()\n",
    "model.add(Dense(1, activation='sigmoid', \n",
    "                kernel_regularizer=keras.regularizers.l1_l2(l1=0.001, l2=0.001),\n",
    "                input_dim=vocab_size))\n",
    "experiment(model, bow_texts, bow_labels, learning_rate=0.0001)"
   ]
  },
  {
   "cell_type": "code",
   "execution_count": 22,
   "metadata": {},
   "outputs": [
    {
     "name": "stdout",
     "output_type": "stream",
     "text": [
      "Epoch 1/5\n",
      " - 5s - loss: 0.5752 - acc: 0.7076\n",
      "Epoch 2/5\n",
      " - 4s - loss: 0.4805 - acc: 0.7769\n",
      "Epoch 3/5\n",
      " - 4s - loss: 0.4339 - acc: 0.8075\n",
      "Epoch 4/5\n",
      " - 4s - loss: 0.4004 - acc: 0.8304\n",
      "Epoch 5/5\n",
      " - 4s - loss: 0.3729 - acc: 0.8509\n",
      "18710/18710 [==============================] - 3s 186us/step\n"
     ]
    },
    {
     "data": {
      "text/plain": [
       "[0.34352686213402106, 0.8718332442862665]"
      ]
     },
     "execution_count": 22,
     "metadata": {},
     "output_type": "execute_result"
    }
   ],
   "source": [
    "#reclassification for logistic regression, see https://gist.github.com/fchollet/b7507f373a3446097f26840330c1c378\n",
    "bow_texts, bow_labels = read_data(vocab_size=vocab_size, bow_mode=\"binary\")\n",
    "#texts, labels = read_data(vocab_size=vocab_size, bow_mode=\"binary\", to_process=ToProcess.TITLE_ONLY)\n",
    "\n",
    "model = Sequential()\n",
    "#worked better without regularizer: kernel_regularizer=keras.regularizers.l1_l2(l1=0.01, l2=0.01),\n",
    "model.add(Dense(1, activation='sigmoid', \n",
    "                input_dim=vocab_size))\n",
    "\n",
    "model.compile(loss='binary_crossentropy',\n",
    "                optimizer=\"adam\",\n",
    "                metrics=['acc'])\n",
    "    \n",
    "model.fit(bow_texts, bow_labels, epochs=5, \n",
    "                        batch_size=50, verbose=2)\n",
    "\n",
    "model.evaluate(bow_texts, bow_labels)"
   ]
  },
  {
   "cell_type": "code",
   "execution_count": 14,
   "metadata": {},
   "outputs": [
    {
     "name": "stdout",
     "output_type": "stream",
     "text": [
      "Train on 16839 samples, validate on 1871 samples\n",
      "Epoch 1/30\n",
      " - 4s - loss: 0.5515 - acc: 0.7190 - val_loss: 0.6067 - val_acc: 0.6788\n",
      "Epoch 2/30\n",
      " - 3s - loss: 0.4336 - acc: 0.8069 - val_loss: 0.5937 - val_acc: 0.6889\n",
      "Epoch 3/30\n",
      " - 3s - loss: 0.3751 - acc: 0.8474 - val_loss: 0.6236 - val_acc: 0.6697\n",
      "Epoch 4/30\n",
      " - 3s - loss: 0.3340 - acc: 0.8727 - val_loss: 0.6298 - val_acc: 0.6718\n",
      "\n",
      "Epoch 00004: ReduceLROnPlateau reducing learning rate to 0.00010000000474974513.\n",
      "Epoch 5/30\n",
      " - 3s - loss: 0.2901 - acc: 0.9050 - val_loss: 0.6379 - val_acc: 0.6627\n",
      "Epoch 6/30\n",
      " - 3s - loss: 0.2868 - acc: 0.9068 - val_loss: 0.6339 - val_acc: 0.6670\n",
      "\n",
      "Epoch 00006: ReduceLROnPlateau reducing learning rate to 1.0000000474974514e-05.\n",
      "Epoch 00006: early stopping\n"
     ]
    },
    {
     "data": {
      "image/png": "[encoded data removed]",
      "text/plain": [
       "<Figure size 432x288 with 1 Axes>"
      ]
     },
     "metadata": {
      "needs_background": "light"
     },
     "output_type": "display_data"
    }
   ],
   "source": [
    "#logistic regression with 2 class softmax instead, see https://gist.github.com/fchollet/b7507f373a3446097f26840330c1c378\n",
    "#texts, labels = read_data(vocab_size=vocab_size, bow_mode=\"binary\", to_process=ToProcess.TITLE_ONLY)\n",
    "labels = []\n",
    "for b in bow_labels:\n",
    "    if b:\n",
    "        labels.append([0., 1.])\n",
    "    else:\n",
    "        labels.append([1., 0.])\n",
    "labels = np.asarray(labels)\n",
    "\n",
    "model = Sequential()\n",
    "#worked better without regularizer: kernel_regularizer=keras.regularizers.l1_l2(l1=0.01, l2=0.01),\n",
    "model.add(Dense(2, activation='softmax', \n",
    "                input_dim=vocab_size))\n",
    "\n",
    "model.compile(loss='categorical_crossentropy',\n",
    "                optimizer=\"adam\",\n",
    "                metrics=['acc'])\n",
    "callbacks = [keras.callbacks.ReduceLROnPlateau(\n",
    "                    monitor='val_loss',\n",
    "                    factor=0.1,\n",
    "                    patience=2,\n",
    "                    verbose=1\n",
    "                 ),\n",
    "        keras.callbacks.EarlyStopping(\n",
    "                monitor=\"val_loss\",\n",
    "                patience=4,\n",
    "                verbose=1\n",
    "             )]\n",
    "history = model.fit(bow_texts, labels, validation_split=0.1, epochs=30, \n",
    "                        batch_size=50, verbose=2, callbacks=callbacks).history\n",
    "    \n",
    "epochs = range(1, len(history[\"acc\"]) + 1)\n",
    "plt.plot(epochs, history[\"val_acc\"], label=\"val accurarcy\")\n",
    "plt.plot(epochs, history[\"val_loss\"], label=\"val loss\")\n",
    "plt.xlabel(\"Epochs\")\n",
    "plt.legend()\n",
    "plt.show()"
   ]
  },
  {
   "cell_type": "code",
   "execution_count": 8,
   "metadata": {},
   "outputs": [],
   "source": [
    "#text and labels in embedding format\n",
    "texts, labels, word_index = read_data(maxlen=maxlen, vocab_size=vocab_size, return_word_index=True)"
   ]
  },
  {
   "cell_type": "code",
   "execution_count": 9,
   "metadata": {},
   "outputs": [
    {
     "name": "stdout",
     "output_type": "stream",
     "text": [
      "_________________________________________________________________\n",
      "Layer (type)                 Output Shape              Param #   \n",
      "=================================================================\n",
      "embedding (Embedding)        (None, 300, 20)           800000    \n",
      "_________________________________________________________________\n",
      "flatten (Flatten)            (None, 6000)              0         \n",
      "_________________________________________________________________\n",
      "dropout (Dropout)            (None, 6000)              0         \n",
      "_________________________________________________________________\n",
      "dense_1 (Dense)              (None, 1)                 6001      \n",
      "=================================================================\n",
      "Total params: 806,001\n",
      "Trainable params: 806,001\n",
      "Non-trainable params: 0\n",
      "_________________________________________________________________\n"
     ]
    },
    {
     "name": "stderr",
     "output_type": "stream",
     "text": [
      "/home/hellrich/bin/anaconda3/envs/keras-tensor-old-cudn/lib/python3.6/site-packages/tensorflow/python/ops/gradients_impl.py:100: UserWarning: Converting sparse IndexedSlices to a dense Tensor of unknown shape. This may consume a large amount of memory.\n",
      "  \"Converting sparse IndexedSlices to a dense Tensor of unknown shape. \"\n"
     ]
    },
    {
     "name": "stdout",
     "output_type": "stream",
     "text": [
      "Train on 16839 samples, validate on 1871 samples\n",
      "Epoch 1/30\n",
      " - 3s - loss: 0.7314 - acc: 0.5343 - val_loss: 0.6567 - val_acc: 0.5986\n",
      "Epoch 2/30\n",
      " - 2s - loss: 0.6316 - acc: 0.6386 - val_loss: 0.7972 - val_acc: 0.4912\n",
      "Epoch 3/30\n",
      " - 2s - loss: 0.5344 - acc: 0.7258 - val_loss: 0.5856 - val_acc: 0.6825\n",
      "Epoch 4/30\n",
      " - 2s - loss: 0.4662 - acc: 0.7758 - val_loss: 0.6781 - val_acc: 0.6472\n",
      "Epoch 5/30\n",
      " - 1s - loss: 0.4171 - acc: 0.8046 - val_loss: 0.6540 - val_acc: 0.6627\n",
      "\n",
      "Epoch 00005: ReduceLROnPlateau reducing learning rate to 0.00010000000474974513.\n",
      "Epoch 6/30\n",
      " - 2s - loss: 0.3515 - acc: 0.8517 - val_loss: 0.6475 - val_acc: 0.6676\n",
      "Epoch 7/30\n",
      " - 2s - loss: 0.3436 - acc: 0.8588 - val_loss: 0.5968 - val_acc: 0.6948\n",
      "\n",
      "Epoch 00007: ReduceLROnPlateau reducing learning rate to 1.0000000474974514e-05.\n",
      "Epoch 00007: early stopping\n"
     ]
    },
    {
     "data": {
      "image/png": "[encoded data removed]",
      "text/plain": [
       "<Figure size 432x288 with 1 Axes>"
      ]
     },
     "metadata": {
      "needs_background": "light"
     },
     "output_type": "display_data"
    }
   ],
   "source": [
    "#simple embedding net\n",
    "model = Sequential()\n",
    "model.add(Embedding(input_dim=vocab_size, output_dim=20, input_length=maxlen))\n",
    "model.add(Flatten())\n",
    "model.add(Dropout(0.2))\n",
    "model.add(Dense(1, activation='sigmoid'))\n",
    "\n",
    "model.summary()\n",
    "experiment(model, texts, labels)"
   ]
  },
  {
   "cell_type": "code",
   "execution_count": 65,
   "metadata": {},
   "outputs": [
    {
     "ename": "ValueError",
     "evalue": "Layer weight shape (40001, 200) not compatible with provided weight shape (40000, 200)",
     "output_type": "error",
     "traceback": [
      "\u001b[0;31m---------------------------------------------------------------------------\u001b[0m",
      "\u001b[0;31mValueError\u001b[0m                                Traceback (most recent call last)",
      "\u001b[0;32m<ipython-input-65-5ff2fea5f806>\u001b[0m in \u001b[0;36m<module>\u001b[0;34m()\u001b[0m\n\u001b[1;32m      1\u001b[0m \u001b[0;31m#simple embedding with pre-trained embeddings\u001b[0m\u001b[0;34m\u001b[0m\u001b[0;34m\u001b[0m\u001b[0m\n\u001b[1;32m      2\u001b[0m \u001b[0mmodel\u001b[0m \u001b[0;34m=\u001b[0m \u001b[0mSequential\u001b[0m\u001b[0;34m(\u001b[0m\u001b[0;34m)\u001b[0m\u001b[0;34m\u001b[0m\u001b[0m\n\u001b[0;32m----> 3\u001b[0;31m \u001b[0mmodel\u001b[0m\u001b[0;34m.\u001b[0m\u001b[0madd\u001b[0m\u001b[0;34m(\u001b[0m\u001b[0membeddings\u001b[0m\u001b[0;34m(\u001b[0m\u001b[0mword_index\u001b[0m\u001b[0;34m,\u001b[0m \u001b[0minput_dim\u001b[0m\u001b[0;34m=\u001b[0m\u001b[0mvocab_size\u001b[0m\u001b[0;34m,\u001b[0m \u001b[0minput_length\u001b[0m\u001b[0;34m=\u001b[0m\u001b[0mmaxlen\u001b[0m\u001b[0;34m,\u001b[0m \u001b[0membedding_dim\u001b[0m\u001b[0;34m=\u001b[0m\u001b[0;36m200\u001b[0m\u001b[0;34m)\u001b[0m\u001b[0;34m)\u001b[0m\u001b[0;34m\u001b[0m\u001b[0m\n\u001b[0m\u001b[1;32m      4\u001b[0m \u001b[0mmodel\u001b[0m\u001b[0;34m.\u001b[0m\u001b[0madd\u001b[0m\u001b[0;34m(\u001b[0m\u001b[0mFlatten\u001b[0m\u001b[0;34m(\u001b[0m\u001b[0;34m)\u001b[0m\u001b[0;34m)\u001b[0m\u001b[0;34m\u001b[0m\u001b[0m\n\u001b[1;32m      5\u001b[0m \u001b[0mmodel\u001b[0m\u001b[0;34m.\u001b[0m\u001b[0madd\u001b[0m\u001b[0;34m(\u001b[0m\u001b[0mDropout\u001b[0m\u001b[0;34m(\u001b[0m\u001b[0;36m0.2\u001b[0m\u001b[0;34m)\u001b[0m\u001b[0;34m)\u001b[0m\u001b[0;34m\u001b[0m\u001b[0m\n",
      "\u001b[0;32m~/bin/anaconda3/envs/keras-tensor-old-cudn/lib/python3.6/site-packages/tensorflow/python/keras/engine/sequential.py\u001b[0m in \u001b[0;36madd\u001b[0;34m(self, layer)\u001b[0m\n\u001b[1;32m    161\u001b[0m           \u001b[0;31m# and create the node connecting the current layer\u001b[0m\u001b[0;34m\u001b[0m\u001b[0;34m\u001b[0m\u001b[0m\n\u001b[1;32m    162\u001b[0m           \u001b[0;31m# to the input layer we just created.\u001b[0m\u001b[0;34m\u001b[0m\u001b[0;34m\u001b[0m\u001b[0m\n\u001b[0;32m--> 163\u001b[0;31m           \u001b[0mlayer\u001b[0m\u001b[0;34m(\u001b[0m\u001b[0mx\u001b[0m\u001b[0;34m)\u001b[0m\u001b[0;34m\u001b[0m\u001b[0m\n\u001b[0m\u001b[1;32m    164\u001b[0m           \u001b[0mset_inputs\u001b[0m \u001b[0;34m=\u001b[0m \u001b[0;32mTrue\u001b[0m\u001b[0;34m\u001b[0m\u001b[0m\n\u001b[1;32m    165\u001b[0m         \u001b[0;32melse\u001b[0m\u001b[0;34m:\u001b[0m\u001b[0;34m\u001b[0m\u001b[0m\n",
      "\u001b[0;32m~/bin/anaconda3/envs/keras-tensor-old-cudn/lib/python3.6/site-packages/tensorflow/python/keras/engine/base_layer.py\u001b[0m in \u001b[0;36m__call__\u001b[0;34m(self, inputs, *args, **kwargs)\u001b[0m\n\u001b[1;32m    746\u001b[0m     \u001b[0;31m# TODO(fchollet): consider enabling this with eager execution too.\u001b[0m\u001b[0;34m\u001b[0m\u001b[0;34m\u001b[0m\u001b[0m\n\u001b[1;32m    747\u001b[0m     \u001b[0;32mif\u001b[0m \u001b[0mhasattr\u001b[0m\u001b[0;34m(\u001b[0m\u001b[0mself\u001b[0m\u001b[0;34m,\u001b[0m \u001b[0;34m'_initial_weights'\u001b[0m\u001b[0;34m)\u001b[0m \u001b[0;32mand\u001b[0m \u001b[0mself\u001b[0m\u001b[0;34m.\u001b[0m\u001b[0m_initial_weights\u001b[0m \u001b[0;32mis\u001b[0m \u001b[0;32mnot\u001b[0m \u001b[0;32mNone\u001b[0m\u001b[0;34m:\u001b[0m\u001b[0;34m\u001b[0m\u001b[0m\n\u001b[0;32m--> 748\u001b[0;31m       \u001b[0mself\u001b[0m\u001b[0;34m.\u001b[0m\u001b[0mset_weights\u001b[0m\u001b[0;34m(\u001b[0m\u001b[0mself\u001b[0m\u001b[0;34m.\u001b[0m\u001b[0m_initial_weights\u001b[0m\u001b[0;34m)\u001b[0m\u001b[0;34m\u001b[0m\u001b[0m\n\u001b[0m\u001b[1;32m    749\u001b[0m       \u001b[0;32mdel\u001b[0m \u001b[0mself\u001b[0m\u001b[0;34m.\u001b[0m\u001b[0m_initial_weights\u001b[0m\u001b[0;34m\u001b[0m\u001b[0m\n\u001b[1;32m    750\u001b[0m     \u001b[0mself\u001b[0m\u001b[0;34m.\u001b[0m\u001b[0m_post_build_cleanup\u001b[0m\u001b[0;34m(\u001b[0m\u001b[0;34m)\u001b[0m\u001b[0;34m\u001b[0m\u001b[0m\n",
      "\u001b[0;32m~/bin/anaconda3/envs/keras-tensor-old-cudn/lib/python3.6/site-packages/tensorflow/python/keras/engine/base_layer.py\u001b[0m in \u001b[0;36mset_weights\u001b[0;34m(self, weights)\u001b[0m\n\u001b[1;32m   1469\u001b[0m         raise ValueError('Layer weight shape ' + str(pv.shape) +\n\u001b[1;32m   1470\u001b[0m                          \u001b[0;34m' not compatible with '\u001b[0m\u001b[0;34m\u001b[0m\u001b[0m\n\u001b[0;32m-> 1471\u001b[0;31m                          'provided weight shape ' + str(w.shape))\n\u001b[0m\u001b[1;32m   1472\u001b[0m       \u001b[0mweight_value_tuples\u001b[0m\u001b[0;34m.\u001b[0m\u001b[0mappend\u001b[0m\u001b[0;34m(\u001b[0m\u001b[0;34m(\u001b[0m\u001b[0mp\u001b[0m\u001b[0;34m,\u001b[0m \u001b[0mw\u001b[0m\u001b[0;34m)\u001b[0m\u001b[0;34m)\u001b[0m\u001b[0;34m\u001b[0m\u001b[0m\n\u001b[1;32m   1473\u001b[0m     \u001b[0mbackend\u001b[0m\u001b[0;34m.\u001b[0m\u001b[0mbatch_set_value\u001b[0m\u001b[0;34m(\u001b[0m\u001b[0mweight_value_tuples\u001b[0m\u001b[0;34m)\u001b[0m\u001b[0;34m\u001b[0m\u001b[0m\n",
      "\u001b[0;31mValueError\u001b[0m: Layer weight shape (40001, 200) not compatible with provided weight shape (40000, 200)"
     ]
    }
   ],
   "source": [
    "#simple embedding with pre-trained embeddings\n",
    "model = Sequential()\n",
    "model.add(embeddings(word_index, input_dim=vocab_size, input_length=maxlen, embedding_dim=200))\n",
    "model.add(Flatten())\n",
    "model.add(Dropout(0.2))\n",
    "model.add(Dense(1, activation='sigmoid'))\n",
    "#model.layers[1].trainable=False\n",
    "model.summary()\n",
    "experiment(model, texts, labels)"
   ]
  },
  {
   "cell_type": "code",
   "execution_count": 34,
   "metadata": {},
   "outputs": [
    {
     "name": "stdout",
     "output_type": "stream",
     "text": [
      "_________________________________________________________________\n",
      "Layer (type)                 Output Shape              Param #   \n",
      "=================================================================\n",
      "embedding_10 (Embedding)     (None, 300, 20)           800000    \n",
      "_________________________________________________________________\n",
      "dropout_12 (Dropout)         (None, 300, 20)           0         \n",
      "_________________________________________________________________\n",
      "conv1d_4 (Conv1D)            (None, 296, 128)          12928     \n",
      "_________________________________________________________________\n",
      "global_max_pooling1d_4 (Glob (None, 128)               0         \n",
      "_________________________________________________________________\n",
      "dense_20 (Dense)             (None, 128)               16512     \n",
      "_________________________________________________________________\n",
      "dropout_13 (Dropout)         (None, 128)               0         \n",
      "_________________________________________________________________\n",
      "dense_21 (Dense)             (None, 1)                 129       \n",
      "=================================================================\n",
      "Total params: 829,569\n",
      "Trainable params: 829,569\n",
      "Non-trainable params: 0\n",
      "_________________________________________________________________\n"
     ]
    },
    {
     "name": "stderr",
     "output_type": "stream",
     "text": [
      "/home/hellrich/bin/anaconda3/envs/keras-tensor-old-cudn/lib/python3.6/site-packages/tensorflow/python/ops/gradients_impl.py:100: UserWarning: Converting sparse IndexedSlices to a dense Tensor of unknown shape. This may consume a large amount of memory.\n",
      "  \"Converting sparse IndexedSlices to a dense Tensor of unknown shape. \"\n"
     ]
    },
    {
     "name": "stdout",
     "output_type": "stream",
     "text": [
      "Train on 16839 samples, validate on 1872 samples\n",
      "Epoch 1/100\n",
      " - 3s - loss: 0.6934 - acc: 0.5382 - val_loss: 0.6822 - val_acc: 0.6469\n",
      "Epoch 2/100\n",
      " - 2s - loss: 0.6801 - acc: 0.5677 - val_loss: 0.6460 - val_acc: 0.6229\n",
      "Epoch 3/100\n",
      " - 2s - loss: 0.6051 - acc: 0.6708 - val_loss: 0.6059 - val_acc: 0.6485\n",
      "Epoch 4/100\n",
      " - 2s - loss: 0.5301 - acc: 0.7247 - val_loss: 0.5828 - val_acc: 0.6538\n",
      "Epoch 5/100\n",
      " - 2s - loss: 0.4999 - acc: 0.7473 - val_loss: 0.6013 - val_acc: 0.6640\n",
      "Epoch 6/100\n",
      " - 2s - loss: 0.4811 - acc: 0.7594 - val_loss: 0.5858 - val_acc: 0.6581\n",
      "Epoch 7/100\n",
      " - 2s - loss: 0.4572 - acc: 0.7762 - val_loss: 0.5927 - val_acc: 0.6741\n",
      "Epoch 8/100\n",
      " - 2s - loss: 0.4391 - acc: 0.7864 - val_loss: 0.5973 - val_acc: 0.6768\n",
      "Epoch 9/100\n",
      " - 2s - loss: 0.4207 - acc: 0.8002 - val_loss: 0.5904 - val_acc: 0.6795\n",
      "Epoch 10/100\n",
      " - 2s - loss: 0.4019 - acc: 0.8145 - val_loss: 0.6616 - val_acc: 0.6864\n",
      "Epoch 11/100\n",
      " - 2s - loss: 0.3802 - acc: 0.8270 - val_loss: 0.6283 - val_acc: 0.6928\n",
      "Epoch 12/100\n",
      " - 2s - loss: 0.3617 - acc: 0.8363 - val_loss: 0.6165 - val_acc: 0.6918\n",
      "Epoch 13/100\n",
      " - 2s - loss: 0.3445 - acc: 0.8479 - val_loss: 0.7100 - val_acc: 0.6982\n",
      "\n",
      "Epoch 00013: ReduceLROnPlateau reducing learning rate to 0.00010000000474974513.\n",
      "Epoch 14/100\n",
      " - 2s - loss: 0.3074 - acc: 0.8677 - val_loss: 0.6829 - val_acc: 0.6960\n",
      "Epoch 00014: early stopping\n"
     ]
    },
    {
     "data": {
      "image/png": "[encoded data removed]",
      "text/plain": [
       "<Figure size 432x288 with 1 Axes>"
      ]
     },
     "metadata": {
      "needs_background": "light"
     },
     "output_type": "display_data"
    }
   ],
   "source": [
    "#convolution a la sven\n",
    "embedding_dimensions=20\n",
    "model = Sequential()\n",
    "model.add(Embedding(input_dim=vocab_size, output_dim=embedding_dimensions, input_length=maxlen))\n",
    "model.add(Dropout(0.2))\n",
    "model.add(Conv1D(128, 5, activation='relu'))\n",
    "#model.add(MaxPooling1D(5))\n",
    "#model.add(Conv1D(64, 5, activation='relu'))\n",
    "#model.add(MaxPooling1D(5))\n",
    "#model.add(Conv1D(32, 5, activation='relu'))\n",
    "model.add(GlobalMaxPooling1D())\n",
    "model.add(Dense(128, activation=\"relu\"))\n",
    "model.add(Dropout(0.5))\n",
    "model.add(Dense(1, activation='sigmoid'))\n",
    "\n",
    "model.summary()\n",
    "experiment(model, texts, labels, 100, 10)"
   ]
  },
  {
   "cell_type": "code",
   "execution_count": 63,
   "metadata": {},
   "outputs": [
    {
     "name": "stdout",
     "output_type": "stream",
     "text": [
      "_________________________________________________________________\n",
      "Layer (type)                 Output Shape              Param #   \n",
      "=================================================================\n",
      "embedding_24 (Embedding)     (None, 300, 200)          8000000   \n",
      "_________________________________________________________________\n",
      "dropout_7 (Dropout)          (None, 300, 200)          0         \n",
      "_________________________________________________________________\n",
      "conv1d_5 (Conv1D)            (None, 296, 128)          128128    \n",
      "_________________________________________________________________\n",
      "global_max_pooling1d_5 (Glob (None, 128)               0         \n",
      "_________________________________________________________________\n",
      "dense_7 (Dense)              (None, 128)               16512     \n",
      "_________________________________________________________________\n",
      "dropout_8 (Dropout)          (None, 128)               0         \n",
      "_________________________________________________________________\n",
      "dense_8 (Dense)              (None, 1)                 129       \n",
      "=================================================================\n",
      "Total params: 8,144,769\n",
      "Trainable params: 144,769\n",
      "Non-trainable params: 8,000,000\n",
      "_________________________________________________________________\n",
      "Train on 16839 samples, validate on 1872 samples\n",
      "Epoch 1/100\n",
      " - 3s - loss: 0.6042 - acc: 0.6627 - val_loss: 0.5746 - val_acc: 0.6581\n",
      "Epoch 2/100\n",
      " - 2s - loss: 0.5273 - acc: 0.7227 - val_loss: 0.5900 - val_acc: 0.6635\n",
      "Epoch 3/100\n",
      " - 2s - loss: 0.4908 - acc: 0.7511 - val_loss: 0.5801 - val_acc: 0.6822\n",
      "Epoch 4/100\n",
      " - 2s - loss: 0.4637 - acc: 0.7696 - val_loss: 0.5827 - val_acc: 0.6822\n",
      "Epoch 5/100\n",
      " - 2s - loss: 0.4375 - acc: 0.7916 - val_loss: 0.5455 - val_acc: 0.6998\n",
      "Epoch 6/100\n",
      " - 2s - loss: 0.4047 - acc: 0.8069 - val_loss: 0.5716 - val_acc: 0.7115\n",
      "Epoch 7/100\n",
      " - 2s - loss: 0.3791 - acc: 0.8258 - val_loss: 0.6012 - val_acc: 0.6987\n",
      "Epoch 8/100\n",
      " - 2s - loss: 0.3461 - acc: 0.8508 - val_loss: 0.6232 - val_acc: 0.7014\n",
      "Epoch 9/100\n",
      " - 2s - loss: 0.3179 - acc: 0.8607 - val_loss: 0.7055 - val_acc: 0.6912\n",
      "Epoch 10/100\n",
      " - 2s - loss: 0.2835 - acc: 0.8802 - val_loss: 0.6178 - val_acc: 0.7105\n",
      "Epoch 11/100\n",
      " - 2s - loss: 0.2571 - acc: 0.8915 - val_loss: 0.7774 - val_acc: 0.6811\n",
      "Epoch 12/100\n",
      " - 2s - loss: 0.2416 - acc: 0.8998 - val_loss: 0.8316 - val_acc: 0.6859\n",
      "Epoch 13/100\n",
      " - 2s - loss: 0.2206 - acc: 0.9090 - val_loss: 0.7342 - val_acc: 0.6987\n",
      "\n",
      "Epoch 00013: ReduceLROnPlateau reducing learning rate to 0.00010000000474974513.\n",
      "Epoch 14/100\n",
      " - 2s - loss: 0.1600 - acc: 0.9395 - val_loss: 0.8897 - val_acc: 0.7035\n",
      "Epoch 15/100\n",
      " - 2s - loss: 0.1415 - acc: 0.9461 - val_loss: 0.9271 - val_acc: 0.6902\n",
      "Epoch 00015: early stopping\n"
     ]
    },
    {
     "data": {
      "image/png": "[encoded data removed]",
      "text/plain": [
       "<Figure size 432x288 with 1 Axes>"
      ]
     },
     "metadata": {
      "needs_background": "light"
     },
     "output_type": "display_data"
    }
   ],
   "source": [
    "#convolution a la sven with pretrained\n",
    "embedding_dimensions=20\n",
    "model = Sequential()\n",
    "model.add(embeddings(word_index, input_dim=vocab_size, input_length=maxlen, embedding_dim=200))\n",
    "model.add(Dropout(0.2))\n",
    "model.add(Conv1D(128, 5, activation='relu'))\n",
    "#model.add(MaxPooling1D(5))\n",
    "#model.add(Conv1D(64, 5, activation='relu'))\n",
    "#model.add(MaxPooling1D(5))\n",
    "#model.add(Conv1D(32, 5, activation='relu'))\n",
    "model.add(GlobalMaxPooling1D())\n",
    "model.add(Dense(128, activation=\"relu\"))\n",
    "model.add(Dropout(0.5))\n",
    "model.add(Dense(1, activation='sigmoid'))\n",
    "\n",
    "model.summary()\n",
    "experiment(model, texts, labels, 100, 10)"
   ]
  },
  {
   "cell_type": "code",
   "execution_count": 68,
   "metadata": {},
   "outputs": [
    {
     "name": "stdout",
     "output_type": "stream",
     "text": [
      "_________________________________________________________________\n",
      "Layer (type)                 Output Shape              Param #   \n",
      "=================================================================\n",
      "embedding_27 (Embedding)     (None, 300, 20)           800000    \n",
      "_________________________________________________________________\n",
      "conv1d_10 (Conv1D)           (None, 296, 64)           6464      \n",
      "_________________________________________________________________\n",
      "global_max_pooling1d_10 (Glo (None, 64)                0         \n",
      "_________________________________________________________________\n",
      "dropout_11 (Dropout)         (None, 64)                0         \n",
      "_________________________________________________________________\n",
      "dense_10 (Dense)             (None, 1)                 65        \n",
      "=================================================================\n",
      "Total params: 806,529\n",
      "Trainable params: 806,529\n",
      "Non-trainable params: 0\n",
      "_________________________________________________________________\n"
     ]
    },
    {
     "name": "stderr",
     "output_type": "stream",
     "text": [
      "/home/hellrich/bin/anaconda3/envs/keras-tensor-old-cudn/lib/python3.6/site-packages/tensorflow/python/ops/gradients_impl.py:100: UserWarning: Converting sparse IndexedSlices to a dense Tensor of unknown shape. This may consume a large amount of memory.\n",
      "  \"Converting sparse IndexedSlices to a dense Tensor of unknown shape. \"\n"
     ]
    },
    {
     "name": "stdout",
     "output_type": "stream",
     "text": [
      "Train on 16839 samples, validate on 1872 samples\n",
      "Epoch 1/30\n",
      " - 3s - loss: 0.6833 - acc: 0.5652 - val_loss: 0.6245 - val_acc: 0.6635\n",
      "Epoch 2/30\n",
      " - 2s - loss: 0.5975 - acc: 0.6790 - val_loss: 0.5873 - val_acc: 0.6672\n",
      "Epoch 3/30\n",
      " - 2s - loss: 0.5257 - acc: 0.7329 - val_loss: 0.5740 - val_acc: 0.6624\n",
      "Epoch 4/30\n",
      " - 2s - loss: 0.4702 - acc: 0.7725 - val_loss: 0.6016 - val_acc: 0.6709\n",
      "Epoch 5/30\n",
      " - 2s - loss: 0.4243 - acc: 0.8046 - val_loss: 0.5816 - val_acc: 0.6848\n",
      "\n",
      "Epoch 00005: ReduceLROnPlateau reducing learning rate to 0.00010000000474974513.\n",
      "Epoch 6/30\n",
      " - 2s - loss: 0.3719 - acc: 0.8442 - val_loss: 0.5943 - val_acc: 0.6784\n",
      "Epoch 7/30\n",
      " - 2s - loss: 0.3639 - acc: 0.8462 - val_loss: 0.5841 - val_acc: 0.6880\n",
      "\n",
      "Epoch 00007: ReduceLROnPlateau reducing learning rate to 1.0000000474974514e-05.\n",
      "Epoch 00007: early stopping\n"
     ]
    },
    {
     "data": {
      "image/png": "[encoded data removed]",
      "text/plain": [
       "<Figure size 432x288 with 1 Axes>"
      ]
     },
     "metadata": {
      "needs_background": "light"
     },
     "output_type": "display_data"
    }
   ],
   "source": [
    "#simple convolution\n",
    "embedding_dimensions=20\n",
    "model = Sequential()\n",
    "model.add(Embedding(input_dim=vocab_size, output_dim=embedding_dimensions, input_length=maxlen))\n",
    "model.add(Conv1D(64, 5, activation='relu'))\n",
    "#model.add(MaxPooling1D(5))\n",
    "#model.add(Conv1D(64, 5, activation='relu'))\n",
    "#model.add(MaxPooling1D(5))\n",
    "#model.add(Conv1D(32, 5, activation='relu'))\n",
    "model.add(GlobalMaxPooling1D())\n",
    "model.add(Dropout(0.2))\n",
    "model.add(Dense(1, activation='sigmoid'))\n",
    "\n",
    "model.summary()\n",
    "experiment(model, texts, labels)"
   ]
  },
  {
   "cell_type": "code",
   "execution_count": 69,
   "metadata": {},
   "outputs": [
    {
     "name": "stdout",
     "output_type": "stream",
     "text": [
      "_________________________________________________________________\n",
      "Layer (type)                 Output Shape              Param #   \n",
      "=================================================================\n",
      "embedding_28 (Embedding)     (None, 300, 200)          8000000   \n",
      "_________________________________________________________________\n",
      "conv1d_11 (Conv1D)           (None, 296, 64)           64064     \n",
      "_________________________________________________________________\n",
      "global_max_pooling1d_11 (Glo (None, 64)                0         \n",
      "_________________________________________________________________\n",
      "dropout_12 (Dropout)         (None, 64)                0         \n",
      "_________________________________________________________________\n",
      "dense_11 (Dense)             (None, 1)                 65        \n",
      "=================================================================\n",
      "Total params: 8,064,129\n",
      "Trainable params: 64,129\n",
      "Non-trainable params: 8,000,000\n",
      "_________________________________________________________________\n",
      "Train on 16839 samples, validate on 1872 samples\n",
      "Epoch 1/30\n",
      " - 2s - loss: 0.6123 - acc: 0.6679 - val_loss: 0.5571 - val_acc: 0.6960\n",
      "Epoch 2/30\n",
      " - 2s - loss: 0.5086 - acc: 0.7423 - val_loss: 0.5887 - val_acc: 0.6779\n",
      "Epoch 3/30\n",
      " - 2s - loss: 0.4664 - acc: 0.7753 - val_loss: 0.6359 - val_acc: 0.6709\n",
      "\n",
      "Epoch 00003: ReduceLROnPlateau reducing learning rate to 0.00010000000474974513.\n",
      "Epoch 4/30\n",
      " - 2s - loss: 0.4039 - acc: 0.8182 - val_loss: 0.5836 - val_acc: 0.6923\n",
      "Epoch 5/30\n",
      " - 2s - loss: 0.3905 - acc: 0.8323 - val_loss: 0.5755 - val_acc: 0.6955\n",
      "\n",
      "Epoch 00005: ReduceLROnPlateau reducing learning rate to 1.0000000474974514e-05.\n",
      "Epoch 00005: early stopping\n"
     ]
    },
    {
     "data": {
      "image/png": "[encoded data removed]",
      "text/plain": [
       "<Figure size 432x288 with 1 Axes>"
      ]
     },
     "metadata": {
      "needs_background": "light"
     },
     "output_type": "display_data"
    }
   ],
   "source": [
    "#simple convolution pretrained\n",
    "embedding_dimensions=20\n",
    "model = Sequential()\n",
    "model.add(embeddings(word_index, input_dim=vocab_size, \n",
    "                    input_length=maxlen, embedding_dim=200))\n",
    "model.add(Conv1D(64, 5, activation='relu'))\n",
    "#model.add(MaxPooling1D(5))\n",
    "#model.add(Conv1D(64, 5, activation='relu'))\n",
    "#model.add(MaxPooling1D(5))\n",
    "#model.add(Conv1D(32, 5, activation='relu'))\n",
    "model.add(GlobalMaxPooling1D())\n",
    "model.add(Dropout(0.2))\n",
    "model.add(Dense(1, activation='sigmoid'))\n",
    "\n",
    "model.summary()\n",
    "experiment(model, texts, labels)\n",
    "\n",
    "\n"
   ]
  },
  {
   "cell_type": "code",
   "execution_count": 36,
   "metadata": {},
   "outputs": [
    {
     "name": "stdout",
     "output_type": "stream",
     "text": [
      "_________________________________________________________________\n",
      "Layer (type)                 Output Shape              Param #   \n",
      "=================================================================\n",
      "input_2 (InputLayer)         (None, 300)               0         \n",
      "_________________________________________________________________\n",
      "embedding_12 (Embedding)     (None, 300, 20)           800000    \n",
      "_________________________________________________________________\n",
      "average_pooling1d_1 (Average (None, 15, 20)            0         \n",
      "_________________________________________________________________\n",
      "flatten_6 (Flatten)          (None, 300)               0         \n",
      "_________________________________________________________________\n",
      "dense_23 (Dense)             (None, 1)                 301       \n",
      "=================================================================\n",
      "Total params: 800,301\n",
      "Trainable params: 800,301\n",
      "Non-trainable params: 0\n",
      "_________________________________________________________________\n"
     ]
    },
    {
     "name": "stderr",
     "output_type": "stream",
     "text": [
      "/home/hellrich/bin/anaconda3/envs/keras-tensor-old-cudn/lib/python3.6/site-packages/tensorflow/python/ops/gradients_impl.py:100: UserWarning: Converting sparse IndexedSlices to a dense Tensor of unknown shape. This may consume a large amount of memory.\n",
      "  \"Converting sparse IndexedSlices to a dense Tensor of unknown shape. \"\n"
     ]
    },
    {
     "name": "stdout",
     "output_type": "stream",
     "text": [
      "Train on 16839 samples, validate on 1872 samples\n",
      "Epoch 1/20\n",
      " - 2s - loss: 0.6790 - acc: 0.5572 - val_loss: 0.6413 - val_acc: 0.6597\n",
      "Epoch 2/20\n",
      " - 1s - loss: 0.6425 - acc: 0.6426 - val_loss: 0.6150 - val_acc: 0.6806\n",
      "Epoch 3/20\n",
      " - 1s - loss: 0.5844 - acc: 0.7155 - val_loss: 0.5972 - val_acc: 0.6955\n",
      "Epoch 4/20\n",
      " - 1s - loss: 0.5259 - acc: 0.7512 - val_loss: 0.5806 - val_acc: 0.6907\n",
      "Epoch 5/20\n",
      " - 1s - loss: 0.4832 - acc: 0.7767 - val_loss: 0.5919 - val_acc: 0.6896\n",
      "Epoch 6/20\n",
      " - 1s - loss: 0.4501 - acc: 0.7950 - val_loss: 0.5885 - val_acc: 0.6928\n",
      "Epoch 7/20\n",
      " - 1s - loss: 0.4221 - acc: 0.8121 - val_loss: 0.6252 - val_acc: 0.6704\n",
      "\n",
      "Epoch 00007: ReduceLROnPlateau reducing learning rate to 0.00010000000474974513.\n",
      "Epoch 8/20\n",
      " - 1s - loss: 0.4005 - acc: 0.8298 - val_loss: 0.5976 - val_acc: 0.6864\n",
      "Epoch 00008: early stopping\n"
     ]
    },
    {
     "data": {
      "image/png": "[encoded data removed]",
      "text/plain": [
       "<Figure size 432x288 with 1 Axes>"
      ]
     },
     "metadata": {
      "needs_background": "light"
     },
     "output_type": "display_data"
    }
   ],
   "source": [
    "#mean of embeddings\n",
    "    \n",
    "embedding_dimensions=20\n",
    "sequence_input = Input(shape=(maxlen,), dtype='int32')\n",
    "embedded_sequences = Embedding(input_dim=vocab_size, output_dim=embedding_dimensions)(sequence_input)\n",
    "l_mean = Flatten()(AveragePooling1D(20)(embedded_sequences))\n",
    "\n",
    "preds = Dense(1, activation='sigmoid')(l_mean)\n",
    "model = keras.Model(sequence_input, preds)\n",
    "model.summary()\n",
    "experiment(model, texts, labels, 20)\n",
    "\n"
   ]
  },
  {
   "cell_type": "code",
   "execution_count": 37,
   "metadata": {},
   "outputs": [
    {
     "name": "stdout",
     "output_type": "stream",
     "text": [
      "_________________________________________________________________\n",
      "Layer (type)                 Output Shape              Param #   \n",
      "=================================================================\n",
      "input_3 (InputLayer)         (None, 300)               0         \n",
      "_________________________________________________________________\n",
      "embedding_13 (Embedding)     (None, 300, 20)           800000    \n",
      "_________________________________________________________________\n",
      "global_average_pooling1d (Gl (None, 20)                0         \n",
      "_________________________________________________________________\n",
      "dropout_15 (Dropout)         (None, 20)                0         \n",
      "_________________________________________________________________\n",
      "dense_24 (Dense)             (None, 1)                 21        \n",
      "=================================================================\n",
      "Total params: 800,021\n",
      "Trainable params: 800,021\n",
      "Non-trainable params: 0\n",
      "_________________________________________________________________\n"
     ]
    },
    {
     "name": "stderr",
     "output_type": "stream",
     "text": [
      "/home/hellrich/bin/anaconda3/envs/keras-tensor-old-cudn/lib/python3.6/site-packages/tensorflow/python/ops/gradients_impl.py:100: UserWarning: Converting sparse IndexedSlices to a dense Tensor of unknown shape. This may consume a large amount of memory.\n",
      "  \"Converting sparse IndexedSlices to a dense Tensor of unknown shape. \"\n"
     ]
    },
    {
     "name": "stdout",
     "output_type": "stream",
     "text": [
      "Train on 16839 samples, validate on 1872 samples\n",
      "Epoch 1/30\n",
      " - 2s - loss: 0.7057 - acc: 0.5260 - val_loss: 0.6449 - val_acc: 0.6522\n",
      "Epoch 2/30\n",
      " - 1s - loss: 0.6662 - acc: 0.5900 - val_loss: 0.6408 - val_acc: 0.6709\n",
      "Epoch 3/30\n",
      " - 1s - loss: 0.6443 - acc: 0.6238 - val_loss: 0.6259 - val_acc: 0.6859\n",
      "Epoch 4/30\n",
      " - 1s - loss: 0.6231 - acc: 0.6513 - val_loss: 0.6217 - val_acc: 0.6838\n",
      "Epoch 5/30\n",
      " - 1s - loss: 0.6029 - acc: 0.6741 - val_loss: 0.5929 - val_acc: 0.6960\n",
      "Epoch 6/30\n",
      " - 1s - loss: 0.5791 - acc: 0.6946 - val_loss: 0.5897 - val_acc: 0.6987\n",
      "Epoch 7/30\n",
      " - 1s - loss: 0.5559 - acc: 0.7166 - val_loss: 0.5814 - val_acc: 0.7014\n",
      "Epoch 8/30\n",
      " - 1s - loss: 0.5399 - acc: 0.7261 - val_loss: 0.5887 - val_acc: 0.6982\n",
      "Epoch 9/30\n",
      " - 1s - loss: 0.5260 - acc: 0.7336 - val_loss: 0.5839 - val_acc: 0.6982\n",
      "Epoch 10/30\n",
      " - 1s - loss: 0.5099 - acc: 0.7492 - val_loss: 0.5798 - val_acc: 0.7046\n",
      "Epoch 11/30\n",
      " - 1s - loss: 0.4966 - acc: 0.7594 - val_loss: 0.5890 - val_acc: 0.6987\n",
      "Epoch 12/30\n",
      " - 1s - loss: 0.4846 - acc: 0.7679 - val_loss: 0.5841 - val_acc: 0.6939\n",
      "Epoch 13/30\n",
      " - 1s - loss: 0.4756 - acc: 0.7704 - val_loss: 0.5872 - val_acc: 0.6960\n",
      "\n",
      "Epoch 00013: ReduceLROnPlateau reducing learning rate to 0.00010000000474974513.\n",
      "Epoch 14/30\n",
      " - 1s - loss: 0.4660 - acc: 0.7775 - val_loss: 0.5887 - val_acc: 0.6960\n",
      "Epoch 00014: early stopping\n"
     ]
    },
    {
     "data": {
      "image/png": "[encoded data removed]",
      "text/plain": [
       "<Figure size 432x288 with 1 Axes>"
      ]
     },
     "metadata": {
      "needs_background": "light"
     },
     "output_type": "display_data"
    }
   ],
   "source": [
    "#mean of embeddings + drop\n",
    "    \n",
    "embedding_dimensions=20\n",
    "sequence_input = Input(shape=(maxlen,), dtype='int32')\n",
    "embedded_sequences = Embedding(input_dim=vocab_size, output_dim=embedding_dimensions)(sequence_input)\n",
    "l_mean = Dropout(0.2)(GlobalAveragePooling1D()(embedded_sequences))\n",
    "\n",
    "preds = Dense(1, activation='sigmoid')(l_mean)\n",
    "model = keras.Model(sequence_input, preds)\n",
    "model.summary()\n",
    "experiment(model, texts, labels)\n",
    "\n",
    "\n"
   ]
  },
  {
   "cell_type": "code",
   "execution_count": 38,
   "metadata": {},
   "outputs": [
    {
     "name": "stdout",
     "output_type": "stream",
     "text": [
      "_________________________________________________________________\n",
      "Layer (type)                 Output Shape              Param #   \n",
      "=================================================================\n",
      "input_4 (InputLayer)         (None, 300)               0         \n",
      "_________________________________________________________________\n",
      "embedding_14 (Embedding)     (None, 300, 20)           800000    \n",
      "_________________________________________________________________\n",
      "global_average_pooling1d_1 ( (None, 20)                0         \n",
      "_________________________________________________________________\n",
      "dense_25 (Dense)             (None, 1)                 21        \n",
      "=================================================================\n",
      "Total params: 800,021\n",
      "Trainable params: 800,021\n",
      "Non-trainable params: 0\n",
      "_________________________________________________________________\n"
     ]
    },
    {
     "name": "stderr",
     "output_type": "stream",
     "text": [
      "/home/hellrich/bin/anaconda3/envs/keras-tensor-old-cudn/lib/python3.6/site-packages/tensorflow/python/ops/gradients_impl.py:100: UserWarning: Converting sparse IndexedSlices to a dense Tensor of unknown shape. This may consume a large amount of memory.\n",
      "  \"Converting sparse IndexedSlices to a dense Tensor of unknown shape. \"\n"
     ]
    },
    {
     "name": "stdout",
     "output_type": "stream",
     "text": [
      "Train on 16839 samples, validate on 1872 samples\n",
      "Epoch 1/30\n",
      " - 2s - loss: 0.6906 - acc: 0.5352 - val_loss: 0.6535 - val_acc: 0.6747\n",
      "Epoch 2/30\n",
      " - 1s - loss: 0.6499 - acc: 0.6427 - val_loss: 0.6317 - val_acc: 0.6864\n",
      "Epoch 3/30\n",
      " - 1s - loss: 0.6205 - acc: 0.6847 - val_loss: 0.6172 - val_acc: 0.6934\n",
      "Epoch 4/30\n",
      " - 1s - loss: 0.5885 - acc: 0.7073 - val_loss: 0.6020 - val_acc: 0.6998\n",
      "Epoch 5/30\n",
      " - 1s - loss: 0.5580 - acc: 0.7259 - val_loss: 0.5890 - val_acc: 0.6993\n",
      "Epoch 6/30\n",
      " - 1s - loss: 0.5322 - acc: 0.7419 - val_loss: 0.5913 - val_acc: 0.6998\n",
      "Epoch 7/30\n",
      " - 1s - loss: 0.5110 - acc: 0.7553 - val_loss: 0.5761 - val_acc: 0.7051\n",
      "Epoch 8/30\n",
      " - 1s - loss: 0.4936 - acc: 0.7645 - val_loss: 0.5839 - val_acc: 0.6998\n",
      "Epoch 9/30\n",
      " - 1s - loss: 0.4786 - acc: 0.7751 - val_loss: 0.5853 - val_acc: 0.6976\n",
      "Epoch 10/30\n",
      " - 1s - loss: 0.4653 - acc: 0.7826 - val_loss: 0.5838 - val_acc: 0.6971\n",
      "\n",
      "Epoch 00010: ReduceLROnPlateau reducing learning rate to 0.00010000000474974513.\n",
      "Epoch 11/30\n",
      " - 1s - loss: 0.4558 - acc: 0.7898 - val_loss: 0.5848 - val_acc: 0.6976\n",
      "Epoch 00011: early stopping\n"
     ]
    },
    {
     "data": {
      "image/png": "[encoded data removed]",
      "text/plain": [
       "<Figure size 432x288 with 1 Axes>"
      ]
     },
     "metadata": {
      "needs_background": "light"
     },
     "output_type": "display_data"
    }
   ],
   "source": [
    "#avg and max\n",
    "\n",
    "in_layer = Input(shape=(maxlen,), dtype='int32')\n",
    "embed_layer = Embedding(input_dim=vocab_size, output_dim=20, input_length=maxlen)(in_layer)\n",
    "avg_layer = GlobalAveragePooling1D()(embed_layer)\n",
    "max_layer = GlobalMaxPooling1D()(embed_layer)\n",
    "concat_layer = Dropout(0.2)(Concatenate()([avg_layer, max_layer]))\n",
    "out_layer = Dense(1, activation='sigmoid')(avg_layer)#(concat_layer)\n",
    "model = keras.Model(in_layer, out_layer)\n",
    "\n",
    "model.compile(loss='binary_crossentropy',\n",
    "                optimizer=\"adam\",\n",
    "                metrics=['acc'])\n",
    "model.summary()\n",
    "experiment(model, texts, labels)"
   ]
  },
  {
   "cell_type": "code",
   "execution_count": 44,
   "metadata": {},
   "outputs": [
    {
     "name": "stdout",
     "output_type": "stream",
     "text": [
      "__________________________________________________________________________________________________\n",
      "Layer (type)                    Output Shape         Param #     Connected to                     \n",
      "==================================================================================================\n",
      "input_9 (InputLayer)            (None, 300)          0                                            \n",
      "__________________________________________________________________________________________________\n",
      "embedding_19 (Embedding)        (None, 300, 20)      800000      input_9[0][0]                    \n",
      "__________________________________________________________________________________________________\n",
      "conv1d_14 (Conv1D)              (None, 299, 64)      2624        embedding_19[0][0]               \n",
      "__________________________________________________________________________________________________\n",
      "conv1d_15 (Conv1D)              (None, 298, 64)      3904        embedding_19[0][0]               \n",
      "__________________________________________________________________________________________________\n",
      "conv1d_16 (Conv1D)              (None, 297, 64)      5184        embedding_19[0][0]               \n",
      "__________________________________________________________________________________________________\n",
      "dropout_28 (Dropout)            (None, 299, 64)      0           conv1d_14[0][0]                  \n",
      "__________________________________________________________________________________________________\n",
      "dropout_29 (Dropout)            (None, 298, 64)      0           conv1d_15[0][0]                  \n",
      "__________________________________________________________________________________________________\n",
      "dropout_30 (Dropout)            (None, 297, 64)      0           conv1d_16[0][0]                  \n",
      "__________________________________________________________________________________________________\n",
      "global_max_pooling1d_20 (Global (None, 64)           0           dropout_28[0][0]                 \n",
      "__________________________________________________________________________________________________\n",
      "global_max_pooling1d_21 (Global (None, 64)           0           dropout_29[0][0]                 \n",
      "__________________________________________________________________________________________________\n",
      "global_max_pooling1d_22 (Global (None, 64)           0           dropout_30[0][0]                 \n",
      "__________________________________________________________________________________________________\n",
      "concatenate_4 (Concatenate)     (None, 192)          0           global_max_pooling1d_20[0][0]    \n",
      "                                                                 global_max_pooling1d_21[0][0]    \n",
      "                                                                 global_max_pooling1d_22[0][0]    \n",
      "__________________________________________________________________________________________________\n",
      "global_average_pooling1d_6 (Glo (None, 20)           0           embedding_19[0][0]               \n",
      "__________________________________________________________________________________________________\n",
      "global_max_pooling1d_19 (Global (None, 20)           0           embedding_19[0][0]               \n",
      "__________________________________________________________________________________________________\n",
      "dropout_31 (Dropout)            (None, 192)          0           concatenate_4[0][0]              \n",
      "__________________________________________________________________________________________________\n",
      "concatenate_5 (Concatenate)     (None, 232)          0           global_average_pooling1d_6[0][0] \n",
      "                                                                 global_max_pooling1d_19[0][0]    \n",
      "                                                                 dropout_31[0][0]                 \n",
      "__________________________________________________________________________________________________\n",
      "dropout_32 (Dropout)            (None, 232)          0           concatenate_5[0][0]              \n",
      "__________________________________________________________________________________________________\n",
      "dense_27 (Dense)                (None, 1)            233         dropout_32[0][0]                 \n",
      "==================================================================================================\n",
      "Total params: 811,945\n",
      "Trainable params: 811,945\n",
      "Non-trainable params: 0\n",
      "__________________________________________________________________________________________________\n"
     ]
    },
    {
     "name": "stderr",
     "output_type": "stream",
     "text": [
      "/home/hellrich/bin/anaconda3/envs/keras-tensor-old-cudn/lib/python3.6/site-packages/tensorflow/python/ops/gradients_impl.py:100: UserWarning: Converting sparse IndexedSlices to a dense Tensor of unknown shape. This may consume a large amount of memory.\n",
      "  \"Converting sparse IndexedSlices to a dense Tensor of unknown shape. \"\n"
     ]
    },
    {
     "name": "stdout",
     "output_type": "stream",
     "text": [
      "Train on 16839 samples, validate on 1872 samples\n",
      "Epoch 1/30\n",
      " - 4s - loss: 0.6766 - acc: 0.5845 - val_loss: 0.6205 - val_acc: 0.6667\n",
      "Epoch 2/30\n",
      " - 3s - loss: 0.5748 - acc: 0.6933 - val_loss: 0.6031 - val_acc: 0.6747\n",
      "Epoch 3/30\n",
      " - 3s - loss: 0.5275 - acc: 0.7296 - val_loss: 0.5914 - val_acc: 0.6779\n",
      "Epoch 4/30\n",
      " - 3s - loss: 0.4853 - acc: 0.7587 - val_loss: 0.5598 - val_acc: 0.6725\n",
      "Epoch 5/30\n",
      " - 3s - loss: 0.4530 - acc: 0.7809 - val_loss: 0.5727 - val_acc: 0.6832\n",
      "Epoch 6/30\n",
      " - 3s - loss: 0.4245 - acc: 0.7978 - val_loss: 0.5831 - val_acc: 0.6827\n",
      "Epoch 7/30\n",
      " - 3s - loss: 0.3876 - acc: 0.8246 - val_loss: 0.5509 - val_acc: 0.6955\n",
      "Epoch 8/30\n",
      " - 3s - loss: 0.3492 - acc: 0.8485 - val_loss: 0.5701 - val_acc: 0.6982\n",
      "Epoch 9/30\n",
      " - 3s - loss: 0.3114 - acc: 0.8699 - val_loss: 0.6180 - val_acc: 0.6806\n",
      "Epoch 10/30\n",
      " - 3s - loss: 0.2779 - acc: 0.8850 - val_loss: 0.6125 - val_acc: 0.6923\n",
      "\n",
      "Epoch 00010: ReduceLROnPlateau reducing learning rate to 0.00010000000474974513.\n",
      "Epoch 11/30\n",
      " - 3s - loss: 0.2276 - acc: 0.9154 - val_loss: 0.6143 - val_acc: 0.6928\n",
      "Epoch 00011: early stopping\n"
     ]
    },
    {
     "data": {
      "image/png": "[encoded data removed]",
      "text/plain": [
       "<Figure size 432x288 with 1 Axes>"
      ]
     },
     "metadata": {
      "needs_background": "light"
     },
     "output_type": "display_data"
    }
   ],
   "source": [
    "#avg and max + conv\n",
    "\n",
    "in_layer = Input(shape=(maxlen,), dtype='int32')\n",
    "embed_layer = Embedding(input_dim=vocab_size, output_dim=20, input_length=maxlen)(in_layer)\n",
    "avg_layer = GlobalAveragePooling1D()(embed_layer)\n",
    "max_layer = GlobalMaxPooling1D()(embed_layer)\n",
    "\n",
    "conv_layers = []\n",
    "for window_size in [2,3,4]:\n",
    "    conv_layer = Conv1D(64,window_size)(embed_layer)\n",
    "    conv_layer = Dropout(0.2)(conv_layer)\n",
    "    conv_layer = GlobalMaxPooling1D()(conv_layer)\n",
    "    conv_layers.append(conv_layer)\n",
    "convs_layer = Dropout(0.2)(Concatenate()(conv_layers))\n",
    "    \n",
    "concat_layer = Dropout(0.2)(Concatenate()([avg_layer, max_layer, convs_layer]))\n",
    "out_layer = Dense(1, activation='sigmoid')(concat_layer)\n",
    "model = keras.Model(in_layer, out_layer)\n",
    "\n",
    "model.compile(loss='binary_crossentropy',\n",
    "                optimizer=\"adam\",\n",
    "                metrics=['acc'])\n",
    "model.summary()\n",
    "experiment(model, texts, labels)"
   ]
  },
  {
   "cell_type": "code",
   "execution_count": 70,
   "metadata": {},
   "outputs": [
    {
     "name": "stdout",
     "output_type": "stream",
     "text": [
      "__________________________________________________________________________________________________\n",
      "Layer (type)                    Output Shape         Param #     Connected to                     \n",
      "==================================================================================================\n",
      "input_4 (InputLayer)            (None, 300)          0                                            \n",
      "__________________________________________________________________________________________________\n",
      "embedding_29 (Embedding)        (None, 300, 20)      800000      input_4[0][0]                    \n",
      "__________________________________________________________________________________________________\n",
      "dropout_13 (Dropout)            (None, 300, 20)      0           embedding_29[0][0]               \n",
      "__________________________________________________________________________________________________\n",
      "conv1d_12 (Conv1D)              (None, 299, 128)     5248        dropout_13[0][0]                 \n",
      "__________________________________________________________________________________________________\n",
      "conv1d_13 (Conv1D)              (None, 298, 128)     7808        dropout_13[0][0]                 \n",
      "__________________________________________________________________________________________________\n",
      "conv1d_14 (Conv1D)              (None, 297, 128)     10368       dropout_13[0][0]                 \n",
      "__________________________________________________________________________________________________\n",
      "conv1d_15 (Conv1D)              (None, 296, 128)     12928       dropout_13[0][0]                 \n",
      "__________________________________________________________________________________________________\n",
      "global_max_pooling1d_12 (Global (None, 128)          0           conv1d_12[0][0]                  \n",
      "__________________________________________________________________________________________________\n",
      "global_max_pooling1d_13 (Global (None, 128)          0           conv1d_13[0][0]                  \n",
      "__________________________________________________________________________________________________\n",
      "global_max_pooling1d_14 (Global (None, 128)          0           conv1d_14[0][0]                  \n",
      "__________________________________________________________________________________________________\n",
      "global_max_pooling1d_15 (Global (None, 128)          0           conv1d_15[0][0]                  \n",
      "__________________________________________________________________________________________________\n",
      "concatenate_2 (Concatenate)     (None, 512)          0           global_max_pooling1d_12[0][0]    \n",
      "                                                                 global_max_pooling1d_13[0][0]    \n",
      "                                                                 global_max_pooling1d_14[0][0]    \n",
      "                                                                 global_max_pooling1d_15[0][0]    \n",
      "__________________________________________________________________________________________________\n",
      "dropout_14 (Dropout)            (None, 512)          0           concatenate_2[0][0]              \n",
      "__________________________________________________________________________________________________\n",
      "dense_12 (Dense)                (None, 1)            513         dropout_14[0][0]                 \n",
      "==================================================================================================\n",
      "Total params: 836,865\n",
      "Trainable params: 836,865\n",
      "Non-trainable params: 0\n",
      "__________________________________________________________________________________________________\n"
     ]
    },
    {
     "name": "stderr",
     "output_type": "stream",
     "text": [
      "/home/hellrich/bin/anaconda3/envs/keras-tensor-old-cudn/lib/python3.6/site-packages/tensorflow/python/ops/gradients_impl.py:100: UserWarning: Converting sparse IndexedSlices to a dense Tensor of unknown shape. This may consume a large amount of memory.\n",
      "  \"Converting sparse IndexedSlices to a dense Tensor of unknown shape. \"\n"
     ]
    },
    {
     "name": "stdout",
     "output_type": "stream",
     "text": [
      "Train on 16839 samples, validate on 1872 samples\n",
      "Epoch 1/50\n",
      " - 4s - loss: 0.7199 - acc: 0.5381 - val_loss: 0.6688 - val_acc: 0.6587\n",
      "Epoch 2/50\n",
      " - 3s - loss: 0.6254 - acc: 0.6475 - val_loss: 0.6226 - val_acc: 0.6384\n",
      "Epoch 3/50\n",
      " - 3s - loss: 0.5625 - acc: 0.7082 - val_loss: 0.5999 - val_acc: 0.6528\n",
      "Epoch 4/50\n",
      " - 3s - loss: 0.5328 - acc: 0.7270 - val_loss: 0.5793 - val_acc: 0.6683\n",
      "Epoch 5/50\n",
      " - 3s - loss: 0.5078 - acc: 0.7448 - val_loss: 0.5743 - val_acc: 0.6763\n",
      "Epoch 6/50\n",
      " - 3s - loss: 0.4859 - acc: 0.7601 - val_loss: 0.5700 - val_acc: 0.6822\n",
      "Epoch 7/50\n",
      " - 3s - loss: 0.4672 - acc: 0.7717 - val_loss: 0.5703 - val_acc: 0.6928\n",
      "Epoch 8/50\n",
      " - 3s - loss: 0.4517 - acc: 0.7853 - val_loss: 0.5990 - val_acc: 0.6880\n",
      "Epoch 9/50\n",
      " - 3s - loss: 0.4314 - acc: 0.7942 - val_loss: 0.5667 - val_acc: 0.6950\n",
      "Epoch 10/50\n",
      " - 3s - loss: 0.4142 - acc: 0.8100 - val_loss: 0.5726 - val_acc: 0.7019\n",
      "Epoch 11/50\n",
      " - 3s - loss: 0.3917 - acc: 0.8207 - val_loss: 0.5656 - val_acc: 0.7099\n",
      "Epoch 12/50\n",
      " - 3s - loss: 0.3704 - acc: 0.8355 - val_loss: 0.5894 - val_acc: 0.7110\n",
      "Epoch 13/50\n",
      " - 3s - loss: 0.3521 - acc: 0.8419 - val_loss: 0.6054 - val_acc: 0.7014\n",
      "Epoch 14/50\n",
      " - 3s - loss: 0.3264 - acc: 0.8571 - val_loss: 0.6175 - val_acc: 0.6960\n",
      "Epoch 15/50\n",
      " - 3s - loss: 0.3051 - acc: 0.8674 - val_loss: 0.6078 - val_acc: 0.7083\n",
      "\n",
      "Epoch 00015: ReduceLROnPlateau reducing learning rate to 0.00010000000474974513.\n",
      "Epoch 16/50\n",
      " - 3s - loss: 0.2851 - acc: 0.8797 - val_loss: 0.6275 - val_acc: 0.6971\n",
      "Epoch 17/50\n",
      " - 3s - loss: 0.2749 - acc: 0.8846 - val_loss: 0.6310 - val_acc: 0.7003\n",
      "Epoch 00017: early stopping\n"
     ]
    },
    {
     "data": {
      "image/png": "[encoded data removed]",
      "text/plain": [
       "<Figure size 432x288 with 1 Axes>"
      ]
     },
     "metadata": {
      "needs_background": "light"
     },
     "output_type": "display_data"
    }
   ],
   "source": [
    "#Yoon Kim inspired architecture with cutom embeddings, \n",
    "#see (deprectaed code!)\n",
    "#https://richliao.github.io/supervised/classification/2016/11/26/textclassifier-convolutional/\n",
    " \n",
    "in_layer = Input(shape=(maxlen,), dtype='int32')\n",
    "embed_layer = Dropout(0.2)(Embedding(input_dim=vocab_size, output_dim=20, \n",
    "                                     input_length=maxlen)(in_layer))\n",
    "\n",
    "convs = []\n",
    "for window_size in [2,3,4,5]:\n",
    "    conv_layer = Conv1D(128,window_size,activation='relu')(embed_layer)\n",
    "    conv_layer = GlobalMaxPooling1D()(conv_layer)\n",
    "    convs.append(conv_layer)\n",
    "    \n",
    "layer = Dropout(0.5)(Concatenate()(convs))\n",
    "out_layer = Dense(1, activation='sigmoid')(layer)\n",
    "model = keras.Model(in_layer, out_layer)\n",
    "\n",
    "model.summary()\n",
    "experiment(model, texts, labels, 50, 6)"
   ]
  },
  {
   "cell_type": "code",
   "execution_count": 132,
   "metadata": {},
   "outputs": [
    {
     "name": "stdout",
     "output_type": "stream",
     "text": [
      "entries 22696 found for 40000 words in embedding model\n",
      "__________________________________________________________________________________________________\n",
      "Layer (type)                    Output Shape         Param #     Connected to                     \n",
      "==================================================================================================\n",
      "input_31 (InputLayer)           (None, 300)          0                                            \n",
      "__________________________________________________________________________________________________\n",
      "embedding_56 (Embedding)        (None, 300, 200)     8000000     input_31[0][0]                   \n",
      "__________________________________________________________________________________________________\n",
      "dropout_87 (Dropout)            (None, 300, 200)     0           embedding_56[0][0]               \n",
      "__________________________________________________________________________________________________\n",
      "conv1d_120 (Conv1D)             (None, 299, 128)     51328       dropout_87[0][0]                 \n",
      "__________________________________________________________________________________________________\n",
      "conv1d_121 (Conv1D)             (None, 298, 128)     76928       dropout_87[0][0]                 \n",
      "__________________________________________________________________________________________________\n",
      "conv1d_122 (Conv1D)             (None, 297, 128)     102528      dropout_87[0][0]                 \n",
      "__________________________________________________________________________________________________\n",
      "conv1d_123 (Conv1D)             (None, 296, 128)     128128      dropout_87[0][0]                 \n",
      "__________________________________________________________________________________________________\n",
      "global_max_pooling1d_120 (Globa (None, 128)          0           conv1d_120[0][0]                 \n",
      "__________________________________________________________________________________________________\n",
      "global_max_pooling1d_121 (Globa (None, 128)          0           conv1d_121[0][0]                 \n",
      "__________________________________________________________________________________________________\n",
      "global_max_pooling1d_122 (Globa (None, 128)          0           conv1d_122[0][0]                 \n",
      "__________________________________________________________________________________________________\n",
      "global_max_pooling1d_123 (Globa (None, 128)          0           conv1d_123[0][0]                 \n",
      "__________________________________________________________________________________________________\n",
      "concatenate_29 (Concatenate)    (None, 512)          0           global_max_pooling1d_120[0][0]   \n",
      "                                                                 global_max_pooling1d_121[0][0]   \n",
      "                                                                 global_max_pooling1d_122[0][0]   \n",
      "                                                                 global_max_pooling1d_123[0][0]   \n",
      "__________________________________________________________________________________________________\n",
      "dropout_88 (Dropout)            (None, 512)          0           concatenate_29[0][0]             \n",
      "__________________________________________________________________________________________________\n",
      "dense_41 (Dense)                (None, 1)            513         dropout_88[0][0]                 \n",
      "==================================================================================================\n",
      "Total params: 8,359,425\n",
      "Trainable params: 359,425\n",
      "Non-trainable params: 8,000,000\n",
      "__________________________________________________________________________________________________\n",
      "Train on 16839 samples, validate on 1872 samples\n",
      "Epoch 1/50\n",
      " - 6s - loss: 0.7065 - acc: 0.6489 - val_loss: 0.6258 - val_acc: 0.6683\n",
      "Epoch 2/50\n",
      " - 3s - loss: 0.5538 - acc: 0.7174 - val_loss: 0.5635 - val_acc: 0.6934\n",
      "Epoch 3/50\n",
      " - 3s - loss: 0.5171 - acc: 0.7342 - val_loss: 0.6086 - val_acc: 0.6806\n",
      "Epoch 4/50\n",
      " - 3s - loss: 0.4884 - acc: 0.7576 - val_loss: 0.5667 - val_acc: 0.6987\n",
      "Epoch 5/50\n",
      " - 3s - loss: 0.4756 - acc: 0.7689 - val_loss: 0.5532 - val_acc: 0.6944\n",
      "Epoch 6/50\n",
      " - 3s - loss: 0.4587 - acc: 0.7764 - val_loss: 0.6048 - val_acc: 0.6891\n",
      "Epoch 7/50\n",
      " - 3s - loss: 0.4399 - acc: 0.7926 - val_loss: 0.5897 - val_acc: 0.6891\n",
      "Epoch 8/50\n",
      " - 3s - loss: 0.4244 - acc: 0.7993 - val_loss: 0.5861 - val_acc: 0.7025\n",
      "Epoch 9/50\n",
      " - 3s - loss: 0.4009 - acc: 0.8166 - val_loss: 0.5915 - val_acc: 0.6998\n",
      "\n",
      "Epoch 00009: ReduceLROnPlateau reducing learning rate to 0.00010000000474974513.\n",
      "Epoch 10/50\n",
      " - 3s - loss: 0.3586 - acc: 0.8379 - val_loss: 0.6062 - val_acc: 0.6982\n",
      "Epoch 11/50\n",
      " - 3s - loss: 0.3545 - acc: 0.8412 - val_loss: 0.6201 - val_acc: 0.6944\n",
      "Epoch 00011: early stopping\n"
     ]
    },
    {
     "data": {
      "image/png": "[encoded data removed]",
      "text/plain": [
       "<Figure size 432x288 with 1 Axes>"
      ]
     },
     "metadata": {
      "needs_background": "light"
     },
     "output_type": "display_data"
    }
   ],
   "source": [
    "#Yoon Kim inspired architecture with pretrained embeddings, \n",
    "#see (deprectaed code!)\n",
    "#https://richliao.github.io/supervised/classification/2016/11/26/textclassifier-convolutional/\n",
    " \n",
    "in_layer = Input(shape=(maxlen,), dtype='int32')\n",
    "embed_layer = Dropout(0.2)((embeddings(word_index, input_dim=vocab_size, \n",
    "                    input_length=maxlen, embedding_dim=200))(in_layer))\n",
    "\n",
    "convs = []\n",
    "for window_size in [2,3,4,5]:\n",
    "    conv_layer = Conv1D(128,window_size,activation='relu')(embed_layer)\n",
    "    conv_layer = GlobalMaxPooling1D()(conv_layer)\n",
    "    convs.append(conv_layer)\n",
    "    \n",
    "layer = Dropout(0.5)(Concatenate()(convs))\n",
    "out_layer = Dense(1, activation='sigmoid')(layer)\n",
    "model = keras.Model(in_layer, out_layer)\n",
    "\n",
    "model.summary()\n",
    "experiment(model, texts, labels, 50, 6)"
   ]
  },
  {
   "cell_type": "code",
   "execution_count": 11,
   "metadata": {},
   "outputs": [
    {
     "name": "stdout",
     "output_type": "stream",
     "text": [
      "entries 29714 found for 40000 words in embedding model\n",
      "__________________________________________________________________________________________________\n",
      "Layer (type)                    Output Shape         Param #     Connected to                     \n",
      "==================================================================================================\n",
      "input_1 (InputLayer)            (None, 300)          0                                            \n",
      "__________________________________________________________________________________________________\n",
      "embedding_1 (Embedding)         (None, 300, 200)     8000000     input_1[0][0]                    \n",
      "__________________________________________________________________________________________________\n",
      "dropout_1 (Dropout)             (None, 300, 200)     0           embedding_1[0][0]                \n",
      "__________________________________________________________________________________________________\n",
      "conv1d (Conv1D)                 (None, 299, 128)     51328       dropout_1[0][0]                  \n",
      "__________________________________________________________________________________________________\n",
      "conv1d_1 (Conv1D)               (None, 298, 128)     76928       dropout_1[0][0]                  \n",
      "__________________________________________________________________________________________________\n",
      "conv1d_2 (Conv1D)               (None, 297, 128)     102528      dropout_1[0][0]                  \n",
      "__________________________________________________________________________________________________\n",
      "conv1d_3 (Conv1D)               (None, 296, 128)     128128      dropout_1[0][0]                  \n",
      "__________________________________________________________________________________________________\n",
      "global_max_pooling1d (GlobalMax (None, 128)          0           conv1d[0][0]                     \n",
      "__________________________________________________________________________________________________\n",
      "global_max_pooling1d_1 (GlobalM (None, 128)          0           conv1d_1[0][0]                   \n",
      "__________________________________________________________________________________________________\n",
      "global_max_pooling1d_2 (GlobalM (None, 128)          0           conv1d_2[0][0]                   \n",
      "__________________________________________________________________________________________________\n",
      "global_max_pooling1d_3 (GlobalM (None, 128)          0           conv1d_3[0][0]                   \n",
      "__________________________________________________________________________________________________\n",
      "dropout_2 (Dropout)             (None, 128)          0           global_max_pooling1d[0][0]       \n",
      "__________________________________________________________________________________________________\n",
      "dropout_3 (Dropout)             (None, 128)          0           global_max_pooling1d_1[0][0]     \n",
      "__________________________________________________________________________________________________\n",
      "dropout_4 (Dropout)             (None, 128)          0           global_max_pooling1d_2[0][0]     \n",
      "__________________________________________________________________________________________________\n",
      "dropout_5 (Dropout)             (None, 128)          0           global_max_pooling1d_3[0][0]     \n",
      "__________________________________________________________________________________________________\n",
      "concatenate (Concatenate)       (None, 512)          0           dropout_2[0][0]                  \n",
      "                                                                 dropout_3[0][0]                  \n",
      "                                                                 dropout_4[0][0]                  \n",
      "                                                                 dropout_5[0][0]                  \n",
      "__________________________________________________________________________________________________\n",
      "dropout_6 (Dropout)             (None, 512)          0           concatenate[0][0]                \n",
      "__________________________________________________________________________________________________\n",
      "dense_2 (Dense)                 (None, 1)            513         dropout_6[0][0]                  \n",
      "==================================================================================================\n",
      "Total params: 8,359,425\n",
      "Trainable params: 359,425\n",
      "Non-trainable params: 8,000,000\n",
      "__________________________________________________________________________________________________\n",
      "Train on 16839 samples, validate on 1871 samples\n",
      "Epoch 1/50\n",
      " - 9s - loss: 0.6127 - acc: 0.6703 - val_loss: 0.6163 - val_acc: 0.6654\n",
      "Epoch 2/50\n",
      " - 5s - loss: 0.5221 - acc: 0.7293 - val_loss: 0.6023 - val_acc: 0.6756\n",
      "Epoch 3/50\n",
      " - 5s - loss: 0.4966 - acc: 0.7481 - val_loss: 0.6120 - val_acc: 0.6654\n",
      "Epoch 4/50\n",
      " - 5s - loss: 0.4837 - acc: 0.7552 - val_loss: 0.6688 - val_acc: 0.6526\n",
      "Epoch 5/50\n",
      "Finetuning layer 1 decreased learning rate with 0.5\n",
      " - 5s - loss: 0.4583 - acc: 0.7773 - val_loss: 0.6045 - val_acc: 0.6820\n",
      "Epoch 6/50\n",
      " - 5s - loss: 0.4475 - acc: 0.7832 - val_loss: 0.6220 - val_acc: 0.6831\n",
      "\n",
      "Epoch 00006: ReduceLROnPlateau reducing learning rate to 5.0000002374872565e-05.\n",
      "Epoch 7/50\n",
      " - 5s - loss: 0.4328 - acc: 0.7943 - val_loss: 0.6268 - val_acc: 0.6863\n",
      "Epoch 8/50\n",
      " - 5s - loss: 0.4267 - acc: 0.7992 - val_loss: 0.6216 - val_acc: 0.6825\n",
      "Epoch 00008: early stopping\n"
     ]
    },
    {
     "data": {
      "image/png": "[encoded data removed]",
      "text/plain": [
       "<Figure size 432x288 with 1 Axes>"
      ]
     },
     "metadata": {
      "needs_background": "light"
     },
     "output_type": "display_data"
    }
   ],
   "source": [
    "#Yoon Kim inspired architecture with pretrained embeddings + fine tuning \n",
    "#see (deprectaed code!)\n",
    "#https://richliao.github.io/supervised/classification/2016/11/26/textclassifier-convolutional/\n",
    "\n",
    "#fasttext\n",
    "path = \"/home/hellrich/keras-test/embeddings/wiki-news-\"\n",
    "suffix = \"d-1M.vec\"\n",
    "embedding_dim=300\n",
    "\n",
    "#bionlp\n",
    "path = \"/home/hellrich/keras-test/embeddings/bio_nlp_win2_\"\n",
    "path = \"/home/hellrich/keras-test/embeddings/bio_nlp_win30_\"\n",
    "embedding_dim = 200\n",
    "suffix = \"d.vec\"\n",
    "\n",
    "in_layer = Input(shape=(maxlen,), dtype='int32')\n",
    "embed_layer = Dropout(0.2)((embeddings(word_index, path=path, suffix=suffix, input_dim=vocab_size, \n",
    "                    input_length=maxlen, embedding_dim=embedding_dim))(in_layer))\n",
    "\n",
    "convs = []\n",
    "for window_size in [2,3,4,5]:\n",
    "    conv_layer = Conv1D(128,window_size,activation='relu')(embed_layer)\n",
    "    conv_layer = Dropout(0.2)(GlobalMaxPooling1D()(conv_layer))\n",
    "    convs.append(conv_layer)\n",
    "    \n",
    "layer = Dropout(0.5)(Concatenate()(convs))\n",
    "out_layer = Dense(1, activation='sigmoid')(layer)\n",
    "model = keras.Model(in_layer, out_layer)\n",
    "\n",
    "model.summary()\n",
    "experiment(model, texts, labels, 50, 6, fine_tune_embeddings=(4,0.5))"
   ]
  },
  {
   "cell_type": "code",
   "execution_count": 14,
   "metadata": {},
   "outputs": [
    {
     "name": "stdout",
     "output_type": "stream",
     "text": [
      "entries 29714 found for 40000 words in embedding model\n"
     ]
    }
   ],
   "source": [
    "#loading stuff for cell below\n",
    "max_sentences = 10\n",
    "MAX_SEQUENCE_LENGTH = 30\n",
    "texts, labels, word_index = read_data(maxlen=maxlen, vocab_size=vocab_size, \n",
    "                                      return_word_index=True, sentence_wise=(max_sentences,MAX_SEQUENCE_LENGTH))\n",
    "\n",
    "#bionlp\n",
    "path = \"/home/hellrich/keras-test/embeddings/bio_nlp_win2_\"\n",
    "#path = \"/home/hellrich/keras-test/embeddings/bio_nlp_win30_\"\n",
    "embedding_dim = 200\n",
    "suffix = \"d.vec\"\n",
    "e =  embeddings(word_index, path=path, suffix=suffix, input_dim=vocab_size, input_length=maxlen, embedding_dim=embedding_dim)"
   ]
  },
  {
   "cell_type": "code",
   "execution_count": null,
   "metadata": {},
   "outputs": [
    {
     "name": "stdout",
     "output_type": "stream",
     "text": [
      "_________________________________________________________________\n",
      "Layer (type)                 Output Shape              Param #   \n",
      "=================================================================\n",
      "input_6 (InputLayer)         (None, 10, 30)            0         \n",
      "_________________________________________________________________\n",
      "time_distributed_1 (TimeDist (None, 10, 64)            8067840   \n",
      "_________________________________________________________________\n",
      "dropout_8 (Dropout)          (None, 10, 64)            0         \n",
      "_________________________________________________________________\n",
      "lstm_3 (LSTM)                (None, 64)                33024     \n",
      "_________________________________________________________________\n",
      "dense_4 (Dense)              (None, 1)                 65        \n",
      "=================================================================\n",
      "Total params: 8,100,929\n",
      "Trainable params: 100,929\n",
      "Non-trainable params: 8,000,000\n",
      "_________________________________________________________________\n",
      "Train on 16839 samples, validate on 1871 samples\n",
      "Epoch 1/50\n",
      " - 54s - loss: 0.5789 - acc: 0.6819 - val_loss: 0.5620 - val_acc: 0.6815\n",
      "Epoch 2/50\n",
      " - 52s - loss: 0.5197 - acc: 0.7286 - val_loss: 0.5749 - val_acc: 0.6734\n",
      "Epoch 3/50\n",
      " - 52s - loss: 0.4973 - acc: 0.7439 - val_loss: 0.5636 - val_acc: 0.6841\n",
      "Epoch 4/50\n",
      " - 52s - loss: 0.4804 - acc: 0.7540 - val_loss: 0.5926 - val_acc: 0.6921\n",
      "Epoch 5/50\n"
     ]
    }
   ],
   "source": [
    "#test with sentence and document level lstms, see https://github.com/keras-team/keras/issues/5516#issuecomment-295016548\n",
    "\n",
    "\n",
    "# Encode each timestep\n",
    "in_sentence = Input(shape=(MAX_SEQUENCE_LENGTH,), dtype='int64')\n",
    "embedded_sentence = e(in_sentence)\n",
    "lstm_sentence = LSTM(64)(embedded_sentence)\n",
    "encoded_model = keras.Model(in_sentence, lstm_sentence)\n",
    "\n",
    "sequence_input = Input(shape=(max_sentences, MAX_SEQUENCE_LENGTH), dtype='int64')\n",
    "seq_encoded = TimeDistributed(encoded_model)(sequence_input)\n",
    "seq_encoded = Dropout(0.2)(seq_encoded)\n",
    "\n",
    "# Encode entire sentence\n",
    "seq_encoded = LSTM(64)(seq_encoded)\n",
    "\n",
    "# Prediction\n",
    "out_layer = Dense(1, activation='sigmoid')(seq_encoded)\n",
    "model = keras.Model(sequence_input, out_layer)\n",
    "\n",
    "model.summary()\n",
    "experiment(model, texts, labels, 50, 6)"
   ]
  }
 ],
 "metadata": {
  "kernelspec": {
   "display_name": "Python 3",
   "language": "python",
   "name": "python3"
  },
  "language_info": {
   "codemirror_mode": {
    "name": "ipython",
    "version": 3
   },
   "file_extension": ".py",
   "mimetype": "text/x-python",
   "name": "python",
   "nbconvert_exporter": "python",
   "pygments_lexer": "ipython3",
   "version": "3.6.6"
  }
 },
 "nbformat": 4,
 "nbformat_minor": 2
}
